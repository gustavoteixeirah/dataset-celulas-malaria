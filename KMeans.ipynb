{
 "cells": [
  {
   "metadata": {},
   "cell_type": "raw",
   "source": [
    "    #%% md\n",
    "    <a href=\"https://colab.research.google.com/github/gustavoteixeirah/dataset-celulas-malaria/blob/main/RandomForest.ipynb\" target=\"_parent\"><img src=\"https://colab.research.google.com/assets/colab-badge.svg\" alt=\"Open In Colab\"/></a>"
   ]
  },
  {
   "cell_type": "code",
   "metadata": {
    "colab": {
     "base_uri": "https://localhost:8080/"
    },
    "id": "8j2xCv6_jzkd",
    "outputId": "82ef7f09-101a-40be-b772-4ec89f68547a",
    "ExecuteTime": {
     "end_time": "2024-08-26T01:43:46.236789Z",
     "start_time": "2024-08-26T01:43:45.851941Z"
    }
   },
   "source": [
    "import os\n",
    "import cv2\n",
    "import numpy as np\n",
    "import pydicom\n",
    "import pandas as pd\n",
    "from PIL import Image\n",
    "from sklearn.decomposition import PCA\n",
    "import matplotlib.pyplot as plt\n",
    "\n",
    "# from google.colab import drive\n",
    "# drive.mount('/content/drive', force_remount=True)\n",
    "\n",
    "# Define folder paths\n",
    "# FOLDER = \"/content/drive/MyDrive/dataset.celulas\"\n",
    "FOLDER = \"cell_images\"\n",
    "PARASITIZED_FOLDER = os.path.join(FOLDER, \"Parasitized/\")\n",
    "UNINFECTED_FOLDER = os.path.join(FOLDER, \"Uninfected/\")\n",
    "\n"
   ],
   "outputs": [],
   "execution_count": 1
  },
  {
   "metadata": {},
   "cell_type": "markdown",
   "source": "#### Adicionado pré-processamento do Mathias"
  },
  {
   "metadata": {
    "ExecuteTime": {
     "end_time": "2024-08-26T01:43:52.778759Z",
     "start_time": "2024-08-26T01:43:52.774043Z"
    }
   },
   "cell_type": "code",
   "source": [
    "def preprocess(image):\n",
    "    img = np.array(image)\n",
    "    img_cinza = cv2.cvtColor(img, cv2.COLOR_RGB2GRAY)\n",
    "    # Normalizando a imagem e usando o PCA\n",
    "    img_nor = cv2.normalize(img_cinza, None, 0, 255, cv2.NORM_MINMAX)\n",
    "    \n",
    "    # Aplica o PCA para manter, por exemplo, 99% da variância\n",
    "    pca = PCA(0.99, random_state=42)\n",
    "    imagem_pca = pca.fit_transform(img_nor)\n",
    "    \n",
    "    # Reconstrói a imagem a partir dos componentes principais\n",
    "    img_reconstruida = pca.inverse_transform(imagem_pca)\n",
    "\n",
    "    img_ = np.uint8(img_reconstruida)\n",
    "    valor, otsu = cv2.threshold(img_, 0, 255, cv2.THRESH_BINARY + cv2.THRESH_OTSU)\n",
    "\n",
    "    kernel = np.ones((4,4), np.uint8)\n",
    "    erosao = cv2.erode(otsu, kernel)\n",
    "    # Segunda maneira de construir o SOBEL\n",
    "    sobelX = cv2.Sobel(erosao, cv2.CV_64F, 1, 0, ksize=1)\n",
    "    sobelY = cv2.Sobel(erosao, cv2.CV_64F, 0, 1, ksize=1)\n",
    "    \n",
    "    sobelX = cv2.convertScaleAbs(sobelX)\n",
    "    sobelY = cv2.convertScaleAbs(sobelY)\n",
    "    \n",
    "    sobel = cv2.addWeighted(src1 = sobelX, alpha=0.9, src2 = sobelY, beta=0.9, gamma=0)\n",
    "\n",
    "    return sobel\n"
   ],
   "outputs": [],
   "execution_count": 2
  },
  {
   "cell_type": "code",
   "metadata": {
    "colab": {
     "base_uri": "https://localhost:8080/"
    },
    "id": "GyvRqETXmKMZ",
    "outputId": "07e8766c-c7e5-4480-8e62-288f63e551be",
    "ExecuteTime": {
     "end_time": "2024-08-26T01:47:58.714708Z",
     "start_time": "2024-08-26T01:44:09.647514Z"
    }
   },
   "source": [
    "from skimage.io import imread  # Assuming you have scikit-image installed\n",
    "from skimage.transform import resize  # Correct import for the resize function\n",
    "import time\n",
    "\n",
    "target_size = (64, 64)\n",
    "\n",
    "# Function to load and preprocess images with progress counter\n",
    "def load_and_preprocess_image(folder_path, image_name, start_time):\n",
    "    image_path = os.path.join(folder_path, image_name)\n",
    "    with Image.open(image_path) as image:\n",
    "        image = resize(image, target_size)  \n",
    "        image = preprocess(image)\n",
    "        # You can add further preprocessing steps here (e.g., normalization)\n",
    "    \n",
    "        # Print progress every 1000 images\n",
    "        if (len(parasitized_images) + len(uninfected_images)) % 1000 == 0:\n",
    "            elapsed_time = time.time() - start_time\n",
    "            print(f\"Processed {len(parasitized_images) + len(uninfected_images)} images in {elapsed_time:.2f} seconds.\")\n",
    "    \n",
    "        return image\n",
    "\n",
    "\n",
    "# Load image data\n",
    "parasitized_images = []\n",
    "uninfected_images = []\n",
    "start_time = time.time()  # Start time for progress tracking\n",
    "print(f\"{start_time:.2f} seconds.\")\n",
    "\n",
    "# Limit to loading only 2000 images each\n",
    "image_count = 0\n",
    "limit = 4000\n",
    "\n",
    "for image_name in os.listdir(PARASITIZED_FOLDER):\n",
    "    if (image_name.split('.')[1] == 'png') and image_count < limit:\n",
    "        parasitized_images.append(load_and_preprocess_image(PARASITIZED_FOLDER, image_name, start_time))\n",
    "        image_count += 1\n",
    "\n",
    "image_count = 0\n",
    "\n",
    "for image_name in os.listdir(UNINFECTED_FOLDER):\n",
    "    if (image_name.split('.')[1] == 'png') and image_count < limit:\n",
    "        uninfected_images.append(load_and_preprocess_image(UNINFECTED_FOLDER, image_name, start_time))\n",
    "        image_count += 1\n",
    "\n",
    "# Print final message after processing all images\n",
    "elapsed_time = time.time() - start_time\n",
    "print(f\"Finished processing all images in {elapsed_time:.2f} seconds.\")"
   ],
   "outputs": [
    {
     "name": "stdout",
     "output_type": "stream",
     "text": [
      "1724636649.99 seconds.\n",
      "Processed 0 images in 0.17 seconds.\n",
      "Processed 1000 images in 26.56 seconds.\n",
      "Processed 2000 images in 53.66 seconds.\n",
      "Processed 3000 images in 92.16 seconds.\n",
      "Processed 4000 images in 116.37 seconds.\n",
      "Processed 5000 images in 143.89 seconds.\n",
      "Processed 6000 images in 169.10 seconds.\n",
      "Processed 7000 images in 194.67 seconds.\n",
      "Finished processing all images in 228.71 seconds.\n"
     ]
    }
   ],
   "execution_count": 3
  },
  {
   "cell_type": "code",
   "metadata": {
    "colab": {
     "base_uri": "https://localhost:8080/"
    },
    "id": "9zaOlEPCwfjY",
    "outputId": "322daaea-afa8-4dd9-a023-18d90299344f",
    "ExecuteTime": {
     "end_time": "2024-08-26T01:48:02.083378Z",
     "start_time": "2024-08-26T01:48:02.080679Z"
    }
   },
   "source": [
    "print(f\"Shape of first parasitized image: {parasitized_images[0].shape}\")\n",
    "print(f\"Shape of first uninfected image: {uninfected_images[0].shape}\")"
   ],
   "outputs": [
    {
     "name": "stdout",
     "output_type": "stream",
     "text": [
      "Shape of first parasitized image: (128, 128)\n",
      "Shape of first uninfected image: (128, 128)\n"
     ]
    }
   ],
   "execution_count": 4
  },
  {
   "metadata": {
    "ExecuteTime": {
     "end_time": "2024-08-26T01:48:10.798507Z",
     "start_time": "2024-08-26T01:48:10.456751Z"
    }
   },
   "cell_type": "code",
   "source": "plt.imshow(parasitized_images[101], cmap='gray')",
   "outputs": [
    {
     "data": {
      "text/plain": [
       "<matplotlib.image.AxesImage at 0x7bfc59540260>"
      ]
     },
     "execution_count": 6,
     "metadata": {},
     "output_type": "execute_result"
    },
    {
     "data": {
      "text/plain": [
       "<Figure size 640x480 with 1 Axes>"
      ],
      "image/png": "[encoded data removed]"
     },
     "metadata": {},
     "output_type": "display_data"
    }
   ],
   "execution_count": 6
  },
  {
   "cell_type": "code",
   "metadata": {
    "colab": {
     "base_uri": "https://localhost:8080/"
    },
    "id": "nMotlLj-niJN",
    "outputId": "b91f60e0-4e3f-4a38-cad4-eb29fd50bcf4",
    "ExecuteTime": {
     "end_time": "2024-08-26T01:48:16.326908Z",
     "start_time": "2024-08-26T01:48:15.559289Z"
    }
   },
   "source": [
    "import numpy as np\n",
    "\n",
    "# Check initial shapes and sizes\n",
    "print(f\"Parasitized images shape: {np.array(parasitized_images).shape}\")\n",
    "print(f\"Uninfected images shape: {np.array(uninfected_images).shape}\")\n",
    "\n",
    "# Incremental concatenation\n",
    "def incremental_concatenate(arrays, batch_size=100):\n",
    "    result = []\n",
    "    for i in range(0, len(arrays), batch_size):\n",
    "        batch = arrays[i:i + batch_size]\n",
    "        result.append(np.array(batch))\n",
    "\n",
    "        print(f\"Returning from: {i}\")\n",
    "    return np.concatenate(result)\n",
    "\n",
    "\n",
    "# Incrementally concatenate images\n",
    "parasitized_images_array = incremental_concatenate(parasitized_images)\n",
    "uninfected_images_array = incremental_concatenate(uninfected_images)\n",
    "\n",
    "X = np.concatenate((parasitized_images_array, uninfected_images_array))\n",
    "y = np.array([1] * len(parasitized_images_array) + [0] * len(uninfected_images_array))\n",
    "\n",
    "print(f\"Shape of X: {X.shape}\")\n",
    "print(f\"Shape of y: {y.shape}\")\n"
   ],
   "outputs": [
    {
     "name": "stdout",
     "output_type": "stream",
     "text": [
      "Parasitized images shape: (4000, 128, 128)\n",
      "Uninfected images shape: (4000, 128, 128)\n",
      "Returning from: 0\n",
      "Returning from: 100\n",
      "Returning from: 200\n",
      "Returning from: 300\n",
      "Returning from: 400\n",
      "Returning from: 500\n",
      "Returning from: 600\n",
      "Returning from: 700\n",
      "Returning from: 800\n",
      "Returning from: 900\n",
      "Returning from: 1000\n",
      "Returning from: 1100\n",
      "Returning from: 1200\n",
      "Returning from: 1300\n",
      "Returning from: 1400\n",
      "Returning from: 1500\n",
      "Returning from: 1600\n",
      "Returning from: 1700\n",
      "Returning from: 1800\n",
      "Returning from: 1900\n",
      "Returning from: 2000\n",
      "Returning from: 2100\n",
      "Returning from: 2200\n",
      "Returning from: 2300\n",
      "Returning from: 2400\n",
      "Returning from: 2500\n",
      "Returning from: 2600\n",
      "Returning from: 2700\n",
      "Returning from: 2800\n",
      "Returning from: 2900\n",
      "Returning from: 3000\n",
      "Returning from: 3100\n",
      "Returning from: 3200\n",
      "Returning from: 3300\n",
      "Returning from: 3400\n",
      "Returning from: 3500\n",
      "Returning from: 3600\n",
      "Returning from: 3700\n",
      "Returning from: 3800\n",
      "Returning from: 3900\n",
      "Returning from: 0\n",
      "Returning from: 100\n",
      "Returning from: 200\n",
      "Returning from: 300\n",
      "Returning from: 400\n",
      "Returning from: 500\n",
      "Returning from: 600\n",
      "Returning from: 700\n",
      "Returning from: 800\n",
      "Returning from: 900\n",
      "Returning from: 1000\n",
      "Returning from: 1100\n",
      "Returning from: 1200\n",
      "Returning from: 1300\n",
      "Returning from: 1400\n",
      "Returning from: 1500\n",
      "Returning from: 1600\n",
      "Returning from: 1700\n",
      "Returning from: 1800\n",
      "Returning from: 1900\n",
      "Returning from: 2000\n",
      "Returning from: 2100\n",
      "Returning from: 2200\n",
      "Returning from: 2300\n",
      "Returning from: 2400\n",
      "Returning from: 2500\n",
      "Returning from: 2600\n",
      "Returning from: 2700\n",
      "Returning from: 2800\n",
      "Returning from: 2900\n",
      "Returning from: 3000\n",
      "Returning from: 3100\n",
      "Returning from: 3200\n",
      "Returning from: 3300\n",
      "Returning from: 3400\n",
      "Returning from: 3500\n",
      "Returning from: 3600\n",
      "Returning from: 3700\n",
      "Returning from: 3800\n",
      "Returning from: 3900\n",
      "Shape of X: (8000, 128, 128)\n",
      "Shape of y: (8000,)\n"
     ]
    }
   ],
   "execution_count": 7
  },
  {
   "cell_type": "code",
   "metadata": {
    "colab": {
     "base_uri": "https://localhost:8080/"
    },
    "id": "QwkJSGC1nVaP",
    "outputId": "bf309e88-d32b-47d2-c8c9-226ee08aa379",
    "ExecuteTime": {
     "end_time": "2024-08-26T01:48:19.413450Z",
     "start_time": "2024-08-26T01:48:19.222163Z"
    }
   },
   "source": [
    "# Split data into training and testing sets (consider using scikit-learn's train_test_split)\n",
    "from sklearn.model_selection import train_test_split\n",
    "\n",
    "X_train, X_test, y_train, y_test = train_test_split(X, y, test_size=0.2, random_state=42)\n",
    "print(f\"Shape of X_train: {X_train.shape}\")\n",
    "print(f\"Shape of y_train: {y_train.shape}\")"
   ],
   "outputs": [
    {
     "name": "stdout",
     "output_type": "stream",
     "text": [
      "Shape of X_train: (6400, 128, 128)\n",
      "Shape of y_train: (6400,)\n"
     ]
    }
   ],
   "execution_count": 8
  },
  {
   "cell_type": "code",
   "metadata": {
    "id": "oP70WHt72G1Z",
    "ExecuteTime": {
     "end_time": "2024-08-26T01:48:21.378288Z",
     "start_time": "2024-08-26T01:48:21.202616Z"
    }
   },
   "source": [
    "X_train = X_train.astype('float32') / 255.0\n",
    "X_test = X_test.astype('float32') / 255.0"
   ],
   "outputs": [],
   "execution_count": 9
  },
  {
   "cell_type": "code",
   "metadata": {
    "colab": {
     "base_uri": "https://localhost:8080/"
    },
    "id": "kTCM2NJf2I1R",
    "outputId": "19ab692e-703e-4bef-fbf9-abbce3a8e3d4",
    "ExecuteTime": {
     "end_time": "2024-08-26T01:48:22.436581Z",
     "start_time": "2024-08-26T01:48:22.430762Z"
    }
   },
   "source": [
    "X_train_flat = X_train.reshape((X_train.shape[0], -1))\n",
    "X_test_flat = X_test.reshape((X_test.shape[0], -1))\n",
    "\n",
    "print(X_train_flat.shape)\n",
    "print(X_test_flat.shape)"
   ],
   "outputs": [
    {
     "name": "stdout",
     "output_type": "stream",
     "text": [
      "(6400, 16384)\n",
      "(1600, 16384)\n"
     ]
    }
   ],
   "execution_count": 10
  },
  {
   "cell_type": "code",
   "metadata": {
    "id": "0Ll8a3cqnXzS",
    "ExecuteTime": {
     "end_time": "2024-08-26T01:48:33.270046Z",
     "start_time": "2024-08-26T01:48:30.725211Z"
    }
   },
   "source": [
    "from sklearn.cluster import KMeans\n",
    "\n",
    "\n",
    "def trainKMeans(X_train, n_clusters=2):\n",
    "    model = KMeans(n_clusters=n_clusters, random_state=42)\n",
    "    model.fit(X_train)\n",
    "    return model\n",
    "\n",
    "\n",
    "model = trainKMeans(X_train_flat, n_clusters=2)\n",
    "# before: 0.77"
   ],
   "outputs": [],
   "execution_count": 11
  },
  {
   "metadata": {
    "ExecuteTime": {
     "end_time": "2024-08-26T01:53:11.275161Z",
     "start_time": "2024-08-26T01:52:05.860070Z"
    }
   },
   "cell_type": "code",
   "source": [
    "import optuna\n",
    "from sklearn.ensemble import RandomForestClassifier\n",
    "from sklearn.metrics import accuracy_score\n",
    "\n",
    "# Variáveis para armazenar o melhor modelo e a melhor métrica\n",
    "best_model = None\n",
    "best_accuracy = 0.0\n",
    "\n",
    "def objective(trial):\n",
    "    # Definir o espaço de busca para os hiperparâmetros\n",
    "    n_clusters = trial.suggest_int('n_estimators', 2, 12)\n",
    "\n",
    "    # Cria modelo\n",
    "    model = trainKMeans(X_train_flat, n_clusters)\n",
    "\n",
    "    model.fit(X_train_flat, y_train.flatten())  # Treina\n",
    "    y_pred = model.predict(X_test_flat)  # Infere\n",
    "    accuracy = accuracy_score(y_test, y_pred)  # Calcula métrica\n",
    "\n",
    "    # Atualize o melhor modelo se necessário\n",
    "    global best_model, best_accuracy\n",
    "    if accuracy > best_accuracy:\n",
    "        best_model = model\n",
    "        best_accuracy = accuracy\n",
    "\n",
    "    return accuracy\n",
    "\n",
    "# Cria estudo a ser otimizado\n",
    "study = optuna.create_study(direction='maximize')\n",
    "study.optimize(objective, n_trials=10, n_jobs=-1)\n",
    "\n",
    "# Imprime a evolução dos modelos ao final da otimização\n",
    "print(f'Melhor solução:')\n",
    "trial = study.best_trial\n",
    "\n",
    "print(f'Valor: {trial.value}')\n",
    "print(f'Parâmetros: ')\n",
    "for key, value in trial.params.items():\n",
    "    print(f'    {key}: {value}')\n",
    "# Melhor solução:\n",
    "# Valor: 0.6560232220609579\n",
    "# Parâmetros:\n",
    "# n_estimators: 169\n",
    "# max_depth: 36\n",
    "# min_samples_leaf: 7"
   ],
   "outputs": [
    {
     "name": "stderr",
     "output_type": "stream",
     "text": [
      "[I 2024-08-25 22:52:05,864] A new study created in memory with name: no-name-f3ba2957-5313-40b6-a29e-64b5ce7fe6f1\n",
      "[I 2024-08-25 22:52:19,260] Trial 0 finished with value: 0.3875 and parameters: {'n_estimators': 4}. Best is trial 0 with value: 0.3875.\n",
      "[I 2024-08-25 22:52:19,859] Trial 3 finished with value: 0.3875 and parameters: {'n_estimators': 4}. Best is trial 0 with value: 0.3875.\n",
      "[I 2024-08-25 22:52:29,380] Trial 5 finished with value: 0.3875 and parameters: {'n_estimators': 3}. Best is trial 0 with value: 0.3875.\n",
      "[I 2024-08-25 22:52:37,104] Trial 1 finished with value: 0.14 and parameters: {'n_estimators': 9}. Best is trial 0 with value: 0.3875.\n",
      "[I 2024-08-25 22:52:45,906] Trial 2 finished with value: 0.10375 and parameters: {'n_estimators': 12}. Best is trial 0 with value: 0.3875.\n",
      "[I 2024-08-25 22:52:50,512] Trial 7 finished with value: 0.386875 and parameters: {'n_estimators': 5}. Best is trial 0 with value: 0.3875.\n",
      "[I 2024-08-25 22:52:57,355] Trial 4 finished with value: 0.10375 and parameters: {'n_estimators': 12}. Best is trial 0 with value: 0.3875.\n",
      "[I 2024-08-25 22:53:06,506] Trial 6 finished with value: 0.11 and parameters: {'n_estimators': 11}. Best is trial 0 with value: 0.3875.\n",
      "[I 2024-08-25 22:53:10,749] Trial 8 finished with value: 0.14 and parameters: {'n_estimators': 9}. Best is trial 0 with value: 0.3875.\n",
      "[I 2024-08-25 22:53:11,271] Trial 9 finished with value: 0.275 and parameters: {'n_estimators': 6}. Best is trial 0 with value: 0.3875.\n"
     ]
    },
    {
     "name": "stdout",
     "output_type": "stream",
     "text": [
      "Melhor solução:\n",
      "Valor: 0.3875\n",
      "Parâmetros: \n",
      "    n_estimators: 4\n"
     ]
    }
   ],
   "execution_count": 14
  },
  {
   "cell_type": "code",
   "metadata": {
    "colab": {
     "base_uri": "https://localhost:8080/",
     "height": 1000
    },
    "id": "sXWMq7Rm2dwH",
    "outputId": "90296a3b-4bcb-4876-c9b3-29623780fedf",
    "ExecuteTime": {
     "end_time": "2024-08-26T01:53:20.174601Z",
     "start_time": "2024-08-26T01:53:19.797590Z"
    }
   },
   "source": [
    "import seaborn as sns\n",
    "import matplotlib.pyplot as plt\n",
    "from sklearn.metrics import accuracy_score, cohen_kappa_score, f1_score, confusion_matrix\n",
    "\n",
    "# Inferência e avaliação\n",
    "def predict_and_evaluate(model, X_test, y_test, normalize=None):\n",
    "\n",
    "  # Inferência\n",
    "  y_pred = model.predict(X_test)\n",
    "\n",
    "  # Métricas\n",
    "  print('Acurácia:', accuracy_score(y_test, y_pred))\n",
    "  print('F1 score:', f1_score(y_test, y_pred, average='weighted'))\n",
    "\n",
    "  # Matriz de confusão\n",
    "  conf_matrix = confusion_matrix(y_test, y_pred, normalize=normalize)\n",
    "\n",
    "  fmt = '.2f' if normalize == 'true' else 'd'\n",
    "  sns.heatmap(conf_matrix, annot=True, fmt=fmt, cmap=\"Blues\", xticklabels=np.unique(y_test), yticklabels=np.unique(y_test))\n",
    "  plt.title('Matriz de Confusão')\n",
    "  plt.xlabel('Predito')\n",
    "  plt.ylabel('Verdadeiro')\n",
    "  plt.show()\n",
    "\n",
    "print('Resultados de Teste')\n",
    "predict_and_evaluate(model, X_test_flat, y_test)\n",
    "print('Resultados de Treino')\n",
    "predict_and_evaluate(model, X_train_flat, y_train)"
   ],
   "outputs": [
    {
     "name": "stdout",
     "output_type": "stream",
     "text": [
      "Resultados de Teste\n",
      "Acurácia: 0.556875\n",
      "F1 score: 0.556689168934481\n"
     ]
    },
    {
     "data": {
      "text/plain": [
       "<Figure size 640x480 with 2 Axes>"
      ],
      "image/png": "[encoded data removed]"
     },
     "metadata": {},
     "output_type": "display_data"
    },
    {
     "name": "stdout",
     "output_type": "stream",
     "text": [
      "Resultados de Treino\n",
      "Acurácia: 0.55953125\n",
      "F1 score: 0.5594343509426307\n"
     ]
    },
    {
     "data": {
      "text/plain": [
       "<Figure size 640x480 with 2 Axes>"
      ],
      "image/png": "[encoded data removed]"
     },
     "metadata": {},
     "output_type": "display_data"
    }
   ],
   "execution_count": 15
  }
 ],
 "metadata": {
  "accelerator": "GPU",
  "colab": {
   "authorship_tag": "ABX9TyPVIJn+nK6D3l4KnN5bsTIt",
   "gpuType": "T4",
   "include_colab_link": true,
   "provenance": []
  },
  "kernelspec": {
   "display_name": "Python 3 (ipykernel)",
   "name": "python3",
   "language": "python"
  },
  "language_info": {
   "codemirror_mode": {
    "name": "ipython",
    "version": 3
   },
   "file_extension": ".py",
   "mimetype": "text/x-python",
   "name": "python",
   "nbconvert_exporter": "python",
   "pygments_lexer": "ipython3",
   "version": "3.12.4"
  }
 },
 "nbformat": 4,
 "nbformat_minor": 0
}
