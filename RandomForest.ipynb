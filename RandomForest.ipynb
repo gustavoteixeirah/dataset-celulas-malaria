{
  "nbformat": 4,
  "nbformat_minor": 0,
  "metadata": {
    "colab": {
      "provenance": [],
      "gpuType": "T4",
      "authorship_tag": "ABX9TyP41FISRUPGLKhR2Fl4jN9g",
      "include_colab_link": true
    },
    "kernelspec": {
      "name": "python3",
      "display_name": "Python 3"
    },
    "language_info": {
      "name": "python"
    },
    "accelerator": "GPU"
  },
  "cells": [
    {
      "cell_type": "markdown",
      "metadata": {
        "id": "view-in-github",
        "colab_type": "text"
      },
      "source": [
        "<a href=\"https://colab.research.google.com/github/gustavoteixeirah/dataset-celulas-malaria/blob/main/RandomForest.ipynb\" target=\"_parent\"><img src=\"https://colab.research.google.com/assets/colab-badge.svg\" alt=\"Open In Colab\"/></a>"
      ]
    },
    {
      "cell_type": "code",
      "execution_count": 4,
      "metadata": {
        "colab": {
          "base_uri": "https://localhost:8080/"
        },
        "id": "8j2xCv6_jzkd",
        "outputId": "82ef7f09-101a-40be-b772-4ec89f68547a"
      },
      "outputs": [
        {
          "output_type": "stream",
          "name": "stdout",
          "text": [
            "Mounted at /content/drive\n"
          ]
        }
      ],
      "source": [
        "import zipfile\n",
        "import os\n",
        "\n",
        "from google.colab import drive\n",
        "drive.mount('/content/drive', force_remount=True)\n",
        "\n",
        "# Define folder paths\n",
        "FOLDER = \"/content/drive/MyDrive/dataset.celulas\"\n",
        "PARASITIZED_FOLDER = os.path.join(FOLDER, \"Parasitized/\")\n",
        "UNINFECTED_FOLDER = os.path.join(FOLDER, \"Uninfected/\")\n",
        "\n"
      ]
    },
    {
      "cell_type": "code",
      "source": [
        "from skimage.io import imread  # Assuming you have scikit-image installed\n",
        "import time\n",
        "\n",
        "target_size = (128, 128)\n",
        "\n",
        "# Function to load and preprocess images with progress counter\n",
        "def load_and_preprocess_image(folder_path, image_name, start_time):\n",
        "    image_path = os.path.join(folder_path, image_name)\n",
        "    image = imread(image_path, as_gray=True)  # Read as grayscale\n",
        "    image = resize(image, target_size)  # Resize to target dimensions\n",
        "    # You can add further preprocessing steps here (e.g., normalization)\n",
        "\n",
        "    # Print progress every 1000 images\n",
        "    if (len(parasitized_images) + len(uninfected_images)) % 1000 == 0:\n",
        "        elapsed_time = time.time() - start_time\n",
        "        print(f\"Processed {len(parasitized_images) + len(uninfected_images)} images in {elapsed_time:.2f} seconds.\")\n",
        "\n",
        "    return image\n",
        "\n",
        "\n",
        "# Load image data\n",
        "parasitized_images = []\n",
        "uninfected_images = []\n",
        "start_time = time.time()  # Start time for progress tracking\n",
        "print(f\"{start_time:.2f} seconds.\")\n",
        "\n",
        "# Limit to loading only 2000 images each\n",
        "image_count = 0\n",
        "\n",
        "for image_name in os.listdir(PARASITIZED_FOLDER):\n",
        "    if (image_name.split('.')[1] == 'png') and image_count < 2000:\n",
        "        parasitized_images.append(load_and_preprocess_image(PARASITIZED_FOLDER, image_name, start_time))\n",
        "        image_count += 1\n",
        "\n",
        "image_count = 0\n",
        "\n",
        "for image_name in os.listdir(UNINFECTED_FOLDER):\n",
        "    if (image_name.split('.')[1] == 'png') and image_count < 2000:\n",
        "        uninfected_images.append(load_and_preprocess_image(UNINFECTED_FOLDER, image_name, start_time))\n",
        "        image_count += 1\n",
        "\n",
        "# Print final message after processing all images\n",
        "elapsed_time = time.time() - start_time\n",
        "print(f\"Finished processing all images in {elapsed_time:.2f} seconds.\")"
      ],
      "metadata": {
        "colab": {
          "base_uri": "https://localhost:8080/"
        },
        "id": "GyvRqETXmKMZ",
        "outputId": "07e8766c-c7e5-4480-8e62-288f63e551be"
      },
      "execution_count": 12,
      "outputs": [
        {
          "output_type": "stream",
          "name": "stdout",
          "text": [
            "1724039891.86 seconds.\n",
            "Processed 0 images in 0.30 seconds.\n",
            "Processed 1000 images in 175.10 seconds.\n",
            "Processed 2000 images in 182.39 seconds.\n",
            "Processed 3000 images in 358.45 seconds.\n",
            "Finished processing all images in 365.13 seconds.\n"
          ]
        }
      ]
    },
    {
      "cell_type": "code",
      "source": [
        "print(f\"Shape of first parasitized image: {parasitized_images[0].shape}\")\n",
        "print(f\"Shape of first uninfected image: {uninfected_images[0].shape}\")"
      ],
      "metadata": {
        "colab": {
          "base_uri": "https://localhost:8080/"
        },
        "id": "9zaOlEPCwfjY",
        "outputId": "322daaea-afa8-4dd9-a023-18d90299344f"
      },
      "execution_count": 13,
      "outputs": [
        {
          "output_type": "stream",
          "name": "stdout",
          "text": [
            "Shape of first parasitized image: (128, 128)\n",
            "Shape of first uninfected image: (128, 128)\n"
          ]
        }
      ]
    },
    {
      "cell_type": "code",
      "source": [
        "import numpy as np\n",
        "\n",
        "# Combine images and labels (assuming labels are 0 for uninfected, 1 for parasitized)\n",
        "X = np.concatenate((np.array(parasitized_images), np.array(uninfected_images)))\n",
        "y = np.array([1] * len(parasitized_images) + [0] * len(uninfected_images))\n",
        "print(f\"Shape of X: {X.shape}\")\n",
        "print(f\"Shape of y: {y.shape}\")"
      ],
      "metadata": {
        "colab": {
          "base_uri": "https://localhost:8080/"
        },
        "id": "nMotlLj-niJN",
        "outputId": "b91f60e0-4e3f-4a38-cad4-eb29fd50bcf4"
      },
      "execution_count": 22,
      "outputs": [
        {
          "output_type": "stream",
          "name": "stdout",
          "text": [
            "Shape of X: (4000, 128, 128)\n",
            "Shape of y: (4000,)\n"
          ]
        }
      ]
    },
    {
      "cell_type": "code",
      "source": [
        "# Split data into training and testing sets (consider using scikit-learn's train_test_split)\n",
        "from sklearn.model_selection import train_test_split\n",
        "\n",
        "X_train, X_test, y_train, y_test = train_test_split(X, y, test_size=0.2, random_state=42)\n",
        "print(f\"Shape of X_train: {X_train.shape}\")\n",
        "print(f\"Shape of y_train: {y_train.shape}\")"
      ],
      "metadata": {
        "colab": {
          "base_uri": "https://localhost:8080/"
        },
        "id": "QwkJSGC1nVaP",
        "outputId": "bf309e88-d32b-47d2-c8c9-226ee08aa379"
      },
      "execution_count": 23,
      "outputs": [
        {
          "output_type": "stream",
          "name": "stdout",
          "text": [
            "Shape of X_train: (3200, 128, 128)\n",
            "Shape of y_train: (3200,)\n"
          ]
        }
      ]
    },
    {
      "cell_type": "code",
      "source": [
        "X_train = X_train.astype('float32') / 255.0\n",
        "X_test = X_test.astype('float32') / 255.0"
      ],
      "metadata": {
        "id": "oP70WHt72G1Z"
      },
      "execution_count": 26,
      "outputs": []
    },
    {
      "cell_type": "code",
      "source": [
        "X_train_flat = X_train.reshape((X_train.shape[0], -1))\n",
        "X_test_flat = X_test.reshape((X_test.shape[0], -1))\n",
        "\n",
        "print(X_train_flat.shape)\n",
        "print(X_test_flat.shape)"
      ],
      "metadata": {
        "colab": {
          "base_uri": "https://localhost:8080/"
        },
        "id": "kTCM2NJf2I1R",
        "outputId": "19ab692e-703e-4bef-fbf9-abbce3a8e3d4"
      },
      "execution_count": 27,
      "outputs": [
        {
          "output_type": "stream",
          "name": "stdout",
          "text": [
            "(3200, 16384)\n",
            "(800, 16384)\n"
          ]
        }
      ]
    },
    {
      "cell_type": "code",
      "source": [
        "from sklearn.ensemble import RandomForestClassifier\n",
        "\n",
        "# Treinamento de um modelo Random Forest\n",
        "def train(X_train, y_train, n_estimators=100):\n",
        "  model = RandomForestClassifier(n_estimators=n_estimators)\n",
        "  model.fit(X_train, y_train.flatten())\n",
        "  return model\n",
        "\n",
        "model = train(X_train_flat, y_train)"
      ],
      "metadata": {
        "id": "0Ll8a3cqnXzS"
      },
      "execution_count": 30,
      "outputs": []
    },
    {
      "cell_type": "code",
      "source": [
        "import seaborn as sns\n",
        "import matplotlib.pyplot as plt\n",
        "from sklearn.metrics import accuracy_score, cohen_kappa_score, f1_score, confusion_matrix\n",
        "\n",
        "# Inferência e avaliação\n",
        "def predict_and_evaluate(model, X_test, y_test, normalize=None):\n",
        "\n",
        "  # Inferência\n",
        "  y_pred = model.predict(X_test)\n",
        "\n",
        "  # Métricas\n",
        "  print('Acurácia:', accuracy_score(y_test, y_pred))\n",
        "  print('F1 score:', f1_score(y_test, y_pred, average='weighted'))\n",
        "\n",
        "  # Matriz de confusão\n",
        "  conf_matrix = confusion_matrix(y_test, y_pred, normalize=normalize)\n",
        "\n",
        "  fmt = '.2f' if normalize == 'true' else 'd'\n",
        "  sns.heatmap(conf_matrix, annot=True, fmt=fmt, cmap=\"Blues\", xticklabels=np.unique(y_test), yticklabels=np.unique(y_test))\n",
        "  plt.title('Matriz de Confusão')\n",
        "  plt.xlabel('Predito')\n",
        "  plt.ylabel('Verdadeiro')\n",
        "  plt.show()\n",
        "\n",
        "print('Resultados de Teste')\n",
        "predict_and_evaluate(model, X_test_flat, y_test)\n",
        "print('Resultados de Treino')\n",
        "predict_and_evaluate(model, X_train_flat, y_train)"
      ],
      "metadata": {
        "colab": {
          "base_uri": "https://localhost:8080/",
          "height": 1000
        },
        "id": "sXWMq7Rm2dwH",
        "outputId": "90296a3b-4bcb-4876-c9b3-29623780fedf"
      },
      "execution_count": 32,
      "outputs": [
        {
          "output_type": "stream",
          "name": "stdout",
          "text": [
            "Resultados de Teste\n",
            "Acurácia: 0.78125\n",
            "F1 score: 0.7813988772746686\n"
          ]
        },
        {
          "output_type": "display_data",
          "data": {
            "text/plain": [
              "<Figure size 640x480 with 2 Axes>"
            ],
            "image/png": "[encoded data removed]"
          },
          "metadata": {}
        },
        {
          "output_type": "stream",
          "name": "stdout",
          "text": [
            "Resultados de Treino\n",
            "Acurácia: 1.0\n",
            "F1 score: 1.0\n"
          ]
        },
        {
          "output_type": "display_data",
          "data": {
            "text/plain": [
              "<Figure size 640x480 with 2 Axes>"
            ],
            "image/png": "[encoded data removed]"
          },
          "metadata": {}
        }
      ]
    }
  ]
}