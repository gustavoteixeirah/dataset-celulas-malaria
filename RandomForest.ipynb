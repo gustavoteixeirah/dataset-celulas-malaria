{
 "cells": [
  {
   "cell_type": "markdown",
   "metadata": {
    "colab_type": "text",
    "id": "view-in-github"
   },
   "source": [
    "<a href=\"https://colab.research.google.com/github/gustavoteixeirah/dataset-celulas-malaria/blob/main/RandomForest.ipynb\" target=\"_parent\"><img src=\"https://colab.research.google.com/assets/colab-badge.svg\" alt=\"Open In Colab\"/></a>"
   ]
  },
  {
   "cell_type": "code",
   "metadata": {
    "colab": {
     "base_uri": "https://localhost:8080/"
    },
    "id": "8j2xCv6_jzkd",
    "outputId": "82ef7f09-101a-40be-b772-4ec89f68547a",
    "ExecuteTime": {
     "end_time": "2024-08-26T01:58:05.778384Z",
     "start_time": "2024-08-26T01:58:05.774836Z"
    }
   },
   "source": [
    "import os\n",
    "import cv2\n",
    "import numpy as np\n",
    "import pydicom\n",
    "import pandas as pd\n",
    "from PIL import Image\n",
    "from sklearn.decomposition import PCA\n",
    "import matplotlib.pyplot as plt\n",
    "\n",
    "# from google.colab import drive\n",
    "# drive.mount('/content/drive', force_remount=True)\n",
    "\n",
    "# Define folder paths\n",
    "# FOLDER = \"/content/drive/MyDrive/dataset.celulas\"\n",
    "FOLDER = \"cell_images\"\n",
    "PARASITIZED_FOLDER = os.path.join(FOLDER, \"Parasitized/\")\n",
    "UNINFECTED_FOLDER = os.path.join(FOLDER, \"Uninfected/\")\n",
    "\n"
   ],
   "outputs": [],
   "execution_count": 2
  },
  {
   "metadata": {
    "ExecuteTime": {
     "end_time": "2024-08-26T01:58:05.805157Z",
     "start_time": "2024-08-26T01:58:05.795514Z"
    }
   },
   "cell_type": "code",
   "source": [
    "def preprocess(image):\n",
    "    img = np.array(image)\n",
    "    img_cinza = cv2.cvtColor(img, cv2.COLOR_RGB2GRAY)\n",
    "    # Normalizando a imagem e usando o PCA\n",
    "    img_nor = cv2.normalize(img_cinza, None, 0, 255, cv2.NORM_MINMAX)\n",
    "    \n",
    "    # Aplica o PCA para manter, por exemplo, 99% da variância\n",
    "    pca = PCA(0.99, random_state=42)\n",
    "    imagem_pca = pca.fit_transform(img_nor)\n",
    "    \n",
    "    # Reconstrói a imagem a partir dos componentes principais\n",
    "    img_reconstruida = pca.inverse_transform(imagem_pca)\n",
    "\n",
    "    img_ = np.uint8(img_reconstruida)\n",
    "    valor, otsu = cv2.threshold(img_, 0, 255, cv2.THRESH_BINARY + cv2.THRESH_OTSU)\n",
    "\n",
    "    kernel = np.ones((4,4), np.uint8)\n",
    "    erosao = cv2.erode(otsu, kernel)\n",
    "    # Segunda maneira de construir o SOBEL\n",
    "    sobelX = cv2.Sobel(erosao, cv2.CV_64F, 1, 0, ksize=1)\n",
    "    sobelY = cv2.Sobel(erosao, cv2.CV_64F, 0, 1, ksize=1)\n",
    "    \n",
    "    sobelX = cv2.convertScaleAbs(sobelX)\n",
    "    sobelY = cv2.convertScaleAbs(sobelY)\n",
    "    \n",
    "    sobel = cv2.addWeighted(src1 = sobelX, alpha=0.9, src2 = sobelY, beta=0.9, gamma=0)\n",
    "\n",
    "    return sobel\n"
   ],
   "outputs": [],
   "execution_count": 3
  },
  {
   "cell_type": "code",
   "metadata": {
    "colab": {
     "base_uri": "https://localhost:8080/"
    },
    "id": "GyvRqETXmKMZ",
    "outputId": "07e8766c-c7e5-4480-8e62-288f63e551be",
    "ExecuteTime": {
     "end_time": "2024-08-26T02:00:19.224745Z",
     "start_time": "2024-08-26T01:58:28.041152Z"
    }
   },
   "source": [
    "from skimage.io import imread  # Assuming you have scikit-image installed\n",
    "from skimage.transform import resize  # Correct import for the resize function\n",
    "import time\n",
    "\n",
    "target_size = (64, 64)\n",
    "\n",
    "# Function to load and preprocess images with progress counter\n",
    "def load_and_preprocess_image(folder_path, image_name, start_time):\n",
    "    image_path = os.path.join(folder_path, image_name)\n",
    "    with Image.open(image_path) as image:\n",
    "        image = preprocess(image)\n",
    "        image = resize(image, target_size)  # Resize to target dimensions\n",
    "        # You can add further preprocessing steps here (e.g., normalization)\n",
    "    \n",
    "        # Print progress every 1000 images\n",
    "        if (len(parasitized_images) + len(uninfected_images)) % 1000 == 0:\n",
    "            elapsed_time = time.time() - start_time\n",
    "            print(f\"Processed {len(parasitized_images) + len(uninfected_images)} images in {elapsed_time:.2f} seconds.\")\n",
    "    \n",
    "        return image\n",
    "\n",
    "\n",
    "# Load image data\n",
    "parasitized_images = []\n",
    "uninfected_images = []\n",
    "start_time = time.time()  # Start time for progress tracking\n",
    "print(f\"{start_time:.2f} seconds.\")\n",
    "\n",
    "# Limit to loading only 2000 images each\n",
    "image_count = 0\n",
    "limit = 2000\n",
    "\n",
    "for image_name in os.listdir(PARASITIZED_FOLDER):\n",
    "    if (image_name.split('.')[1] == 'png') and image_count < limit:\n",
    "        parasitized_images.append(load_and_preprocess_image(PARASITIZED_FOLDER, image_name, start_time))\n",
    "        image_count += 1\n",
    "\n",
    "image_count = 0\n",
    "\n",
    "for image_name in os.listdir(UNINFECTED_FOLDER):\n",
    "    if (image_name.split('.')[1] == 'png') and image_count < limit:\n",
    "        uninfected_images.append(load_and_preprocess_image(UNINFECTED_FOLDER, image_name, start_time))\n",
    "        image_count += 1\n",
    "\n",
    "# Print final message after processing all images\n",
    "elapsed_time = time.time() - start_time\n",
    "print(f\"Finished processing all images in {elapsed_time:.2f} seconds.\")"
   ],
   "outputs": [
    {
     "name": "stdout",
     "output_type": "stream",
     "text": [
      "1724637508.05 seconds.\n",
      "Processed 0 images in 0.05 seconds.\n",
      "Processed 1000 images in 29.38 seconds.\n",
      "Processed 2000 images in 57.81 seconds.\n",
      "Processed 3000 images in 83.85 seconds.\n",
      "Finished processing all images in 111.17 seconds.\n"
     ]
    }
   ],
   "execution_count": 6
  },
  {
   "cell_type": "code",
   "metadata": {
    "colab": {
     "base_uri": "https://localhost:8080/"
    },
    "id": "9zaOlEPCwfjY",
    "outputId": "322daaea-afa8-4dd9-a023-18d90299344f",
    "ExecuteTime": {
     "end_time": "2024-08-26T02:01:47.336044Z",
     "start_time": "2024-08-26T02:01:47.331301Z"
    }
   },
   "source": [
    "print(f\"Shape of first parasitized image: {parasitized_images[0].shape}\")\n",
    "print(f\"Shape of first uninfected image: {uninfected_images[0].shape}\")"
   ],
   "outputs": [
    {
     "name": "stdout",
     "output_type": "stream",
     "text": [
      "Shape of first parasitized image: (64, 64)\n",
      "Shape of first uninfected image: (64, 64)\n"
     ]
    }
   ],
   "execution_count": 7
  },
  {
   "metadata": {
    "ExecuteTime": {
     "end_time": "2024-08-26T02:01:49.473410Z",
     "start_time": "2024-08-26T02:01:49.254222Z"
    }
   },
   "cell_type": "code",
   "source": "plt.imshow(parasitized_images[100], cmap='gray')",
   "outputs": [
    {
     "data": {
      "text/plain": [
       "<matplotlib.image.AxesImage at 0x79642f8c5130>"
      ]
     },
     "execution_count": 8,
     "metadata": {},
     "output_type": "execute_result"
    },
    {
     "data": {
      "text/plain": [
       "<Figure size 640x480 with 1 Axes>"
      ],
      "image/png": "[encoded data removed]"
     },
     "metadata": {},
     "output_type": "display_data"
    }
   ],
   "execution_count": 8
  },
  {
   "cell_type": "code",
   "metadata": {
    "colab": {
     "base_uri": "https://localhost:8080/"
    },
    "id": "nMotlLj-niJN",
    "outputId": "b91f60e0-4e3f-4a38-cad4-eb29fd50bcf4",
    "ExecuteTime": {
     "end_time": "2024-08-26T02:01:52.923591Z",
     "start_time": "2024-08-26T02:01:52.800764Z"
    }
   },
   "source": [
    "import numpy as np\n",
    "\n",
    "# Check initial shapes and sizes\n",
    "print(f\"Parasitized images shape: {np.array(parasitized_images).shape}\")\n",
    "print(f\"Uninfected images shape: {np.array(uninfected_images).shape}\")\n",
    "\n",
    "# Incremental concatenation\n",
    "def incremental_concatenate(arrays, batch_size=100):\n",
    "    result = []\n",
    "    for i in range(0, len(arrays), batch_size):\n",
    "        batch = arrays[i:i + batch_size]\n",
    "        result.append(np.array(batch))\n",
    "\n",
    "        print(f\"Returning from: {i}\")\n",
    "    return np.concatenate(result)\n",
    "\n",
    "\n",
    "# Incrementally concatenate images\n",
    "parasitized_images_array = incremental_concatenate(parasitized_images)\n",
    "uninfected_images_array = incremental_concatenate(uninfected_images)\n",
    "\n",
    "X = np.concatenate((parasitized_images_array, uninfected_images_array))\n",
    "y = np.array([1] * len(parasitized_images_array) + [0] * len(uninfected_images_array))\n",
    "\n",
    "print(f\"Shape of X: {X.shape}\")\n",
    "print(f\"Shape of y: {y.shape}\")\n"
   ],
   "outputs": [
    {
     "name": "stdout",
     "output_type": "stream",
     "text": [
      "Parasitized images shape: (2000, 64, 64)\n",
      "Uninfected images shape: (2000, 64, 64)\n",
      "Returning from: 0\n",
      "Returning from: 100\n",
      "Returning from: 200\n",
      "Returning from: 300\n",
      "Returning from: 400\n",
      "Returning from: 500\n",
      "Returning from: 600\n",
      "Returning from: 700\n",
      "Returning from: 800\n",
      "Returning from: 900\n",
      "Returning from: 1000\n",
      "Returning from: 1100\n",
      "Returning from: 1200\n",
      "Returning from: 1300\n",
      "Returning from: 1400\n",
      "Returning from: 1500\n",
      "Returning from: 1600\n",
      "Returning from: 1700\n",
      "Returning from: 1800\n",
      "Returning from: 1900\n",
      "Returning from: 0\n",
      "Returning from: 100\n",
      "Returning from: 200\n",
      "Returning from: 300\n",
      "Returning from: 400\n",
      "Returning from: 500\n",
      "Returning from: 600\n",
      "Returning from: 700\n",
      "Returning from: 800\n",
      "Returning from: 900\n",
      "Returning from: 1000\n",
      "Returning from: 1100\n",
      "Returning from: 1200\n",
      "Returning from: 1300\n",
      "Returning from: 1400\n",
      "Returning from: 1500\n",
      "Returning from: 1600\n",
      "Returning from: 1700\n",
      "Returning from: 1800\n",
      "Returning from: 1900\n",
      "Shape of X: (4000, 64, 64)\n",
      "Shape of y: (4000,)\n"
     ]
    }
   ],
   "execution_count": 9
  },
  {
   "cell_type": "code",
   "metadata": {
    "colab": {
     "base_uri": "https://localhost:8080/"
    },
    "id": "QwkJSGC1nVaP",
    "outputId": "bf309e88-d32b-47d2-c8c9-226ee08aa379",
    "ExecuteTime": {
     "end_time": "2024-08-26T02:01:56.142030Z",
     "start_time": "2024-08-26T02:01:56.103634Z"
    }
   },
   "source": [
    "# Split data into training and testing sets (consider using scikit-learn's train_test_split)\n",
    "from sklearn.model_selection import train_test_split\n",
    "\n",
    "X_train, X_test, y_train, y_test = train_test_split(X, y, test_size=0.2, random_state=42)\n",
    "print(f\"Shape of X_train: {X_train.shape}\")\n",
    "print(f\"Shape of y_train: {y_train.shape}\")"
   ],
   "outputs": [
    {
     "name": "stdout",
     "output_type": "stream",
     "text": [
      "Shape of X_train: (3200, 64, 64)\n",
      "Shape of y_train: (3200,)\n"
     ]
    }
   ],
   "execution_count": 10
  },
  {
   "cell_type": "code",
   "metadata": {
    "id": "oP70WHt72G1Z",
    "ExecuteTime": {
     "end_time": "2024-08-26T02:01:58.752636Z",
     "start_time": "2024-08-26T02:01:58.722098Z"
    }
   },
   "source": [
    "X_train = X_train.astype('float32') / 255.0\n",
    "X_test = X_test.astype('float32') / 255.0"
   ],
   "outputs": [],
   "execution_count": 11
  },
  {
   "cell_type": "code",
   "metadata": {
    "colab": {
     "base_uri": "https://localhost:8080/"
    },
    "id": "kTCM2NJf2I1R",
    "outputId": "19ab692e-703e-4bef-fbf9-abbce3a8e3d4",
    "ExecuteTime": {
     "end_time": "2024-08-26T02:02:00.367051Z",
     "start_time": "2024-08-26T02:02:00.360953Z"
    }
   },
   "source": [
    "X_train_flat = X_train.reshape((X_train.shape[0], -1))\n",
    "X_test_flat = X_test.reshape((X_test.shape[0], -1))\n",
    "\n",
    "print(X_train_flat.shape)\n",
    "print(X_test_flat.shape)"
   ],
   "outputs": [
    {
     "name": "stdout",
     "output_type": "stream",
     "text": [
      "(3200, 4096)\n",
      "(800, 4096)\n"
     ]
    }
   ],
   "execution_count": 12
  },
  {
   "cell_type": "code",
   "metadata": {
    "id": "0Ll8a3cqnXzS",
    "ExecuteTime": {
     "end_time": "2024-08-26T02:02:07.188629Z",
     "start_time": "2024-08-26T02:02:01.825364Z"
    }
   },
   "source": [
    "from sklearn.ensemble import RandomForestClassifier\n",
    "\n",
    "# Treinamento de um modelo Random Forest\n",
    "def train(X_train, y_train, n_estimators=50):\n",
    "  _model = RandomForestClassifier(n_estimators=n_estimators)\n",
    "  _model.fit(X_train, y_train.flatten())\n",
    "  return _model\n",
    "\n",
    "model = train(X_train_flat, y_train)\n",
    "# before: 0.77"
   ],
   "outputs": [],
   "execution_count": 13
  },
  {
   "metadata": {
    "ExecuteTime": {
     "end_time": "2024-08-26T02:05:57.106087Z",
     "start_time": "2024-08-26T02:02:28.299419Z"
    }
   },
   "cell_type": "code",
   "source": [
    "import optuna\n",
    "from sklearn.ensemble import RandomForestClassifier\n",
    "from sklearn.metrics import accuracy_score\n",
    "\n",
    "# Variáveis para armazenar o melhor modelo e a melhor métrica\n",
    "best_model = None\n",
    "best_accuracy = 0.0\n",
    "\n",
    "def objective(trial):\n",
    "    # Definir o espaço de busca para os hiperparâmetros\n",
    "    n_estimators = trial.suggest_int('n_estimators', 10, 200)\n",
    "    max_depth = trial.suggest_int('max_depth', 5, 40)\n",
    "    min_samples_leaf = trial.suggest_int('min_samples_leaf', 1, 30)\n",
    "\n",
    "    # Cria modelo\n",
    "    params = {\n",
    "        \"n_estimators\": n_estimators,\n",
    "        \"max_depth\": max_depth,\n",
    "        \"min_samples_leaf\": min_samples_leaf,\n",
    "        \"random_state\": 42,\n",
    "    }\n",
    "\n",
    "    model = RandomForestClassifier(**params)\n",
    "\n",
    "    model.fit(X_train_flat, y_train.flatten())  # Treina\n",
    "    y_pred = model.predict(X_test_flat)  # Infere\n",
    "    accuracy = accuracy_score(y_test, y_pred)  # Calcula métrica\n",
    "\n",
    "    # Atualize o melhor modelo se necessário\n",
    "    global best_model, best_accuracy\n",
    "    if accuracy > best_accuracy:\n",
    "        best_model = model\n",
    "        best_accuracy = accuracy\n",
    "\n",
    "    return accuracy\n",
    "\n",
    "# Cria estudo a ser otimizado\n",
    "study = optuna.create_study(direction='maximize')\n",
    "study.optimize(objective, n_trials=100, n_jobs=-1)\n",
    "\n",
    "# Imprime a evolução dos modelos ao final da otimização\n",
    "print(f'Melhor solução:')\n",
    "trial = study.best_trial\n",
    "\n",
    "print(f'Valor: {trial.value}')\n",
    "print(f'Parâmetros: ')\n",
    "for key, value in trial.params.items():\n",
    "    print(f'    {key}: {value}')\n",
    "# Melhor solução:\n",
    "# Valor: 0.6560232220609579\n",
    "# Parâmetros:\n",
    "# n_estimators: 169\n",
    "# max_depth: 36\n",
    "# min_samples_leaf: 7\n",
    "# Melhor solução:\n",
    "# Valor: 0.6325\n",
    "# Parâmetros:\n",
    "# n_estimators: 72\n",
    "# max_depth: 28\n",
    "# min_samples_leaf: 6"
   ],
   "outputs": [
    {
     "name": "stderr",
     "output_type": "stream",
     "text": [
      "/home/teixeira/code/dataset-celulas-malaria/.venv/lib/python3.12/site-packages/tqdm/auto.py:21: TqdmWarning: IProgress not found. Please update jupyter and ipywidgets. See https://ipywidgets.readthedocs.io/en/stable/user_install.html\n",
      "  from .autonotebook import tqdm as notebook_tqdm\n",
      "[I 2024-08-25 23:02:28,444] A new study created in memory with name: no-name-f032714f-8a10-4282-bacd-7e968cfba2d1\n",
      "[I 2024-08-25 23:02:34,605] Trial 3 finished with value: 0.60625 and parameters: {'n_estimators': 81, 'max_depth': 23, 'min_samples_leaf': 15}. Best is trial 3 with value: 0.60625.\n",
      "[I 2024-08-25 23:02:35,963] Trial 0 finished with value: 0.61 and parameters: {'n_estimators': 120, 'max_depth': 31, 'min_samples_leaf': 26}. Best is trial 0 with value: 0.61.\n",
      "[I 2024-08-25 23:02:36,359] Trial 2 finished with value: 0.5725 and parameters: {'n_estimators': 164, 'max_depth': 6, 'min_samples_leaf': 11}. Best is trial 0 with value: 0.61.\n",
      "[I 2024-08-25 23:02:41,707] Trial 6 finished with value: 0.61125 and parameters: {'n_estimators': 88, 'max_depth': 18, 'min_samples_leaf': 20}. Best is trial 6 with value: 0.61125.\n",
      "[I 2024-08-25 23:02:42,862] Trial 5 finished with value: 0.6 and parameters: {'n_estimators': 100, 'max_depth': 21, 'min_samples_leaf': 14}. Best is trial 6 with value: 0.61125.\n",
      "[I 2024-08-25 23:02:44,236] Trial 4 finished with value: 0.59375 and parameters: {'n_estimators': 170, 'max_depth': 12, 'min_samples_leaf': 26}. Best is trial 6 with value: 0.61125.\n",
      "[I 2024-08-25 23:02:44,350] Trial 1 finished with value: 0.6125 and parameters: {'n_estimators': 186, 'max_depth': 38, 'min_samples_leaf': 6}. Best is trial 1 with value: 0.6125.\n",
      "[I 2024-08-25 23:02:51,495] Trial 7 finished with value: 0.59 and parameters: {'n_estimators': 183, 'max_depth': 9, 'min_samples_leaf': 21}. Best is trial 1 with value: 0.6125.\n",
      "[I 2024-08-25 23:02:52,579] Trial 8 finished with value: 0.58875 and parameters: {'n_estimators': 169, 'max_depth': 31, 'min_samples_leaf': 30}. Best is trial 1 with value: 0.6125.\n",
      "[I 2024-08-25 23:02:52,659] Trial 10 finished with value: 0.60625 and parameters: {'n_estimators': 126, 'max_depth': 23, 'min_samples_leaf': 19}. Best is trial 1 with value: 0.6125.\n",
      "[I 2024-08-25 23:02:55,361] Trial 13 finished with value: 0.605 and parameters: {'n_estimators': 25, 'max_depth': 40, 'min_samples_leaf': 1}. Best is trial 1 with value: 0.6125.\n",
      "[I 2024-08-25 23:02:55,698] Trial 9 finished with value: 0.61125 and parameters: {'n_estimators': 173, 'max_depth': 29, 'min_samples_leaf': 16}. Best is trial 1 with value: 0.6125.\n",
      "[I 2024-08-25 23:02:57,486] Trial 11 finished with value: 0.58625 and parameters: {'n_estimators': 112, 'max_depth': 8, 'min_samples_leaf': 20}. Best is trial 1 with value: 0.6125.\n",
      "[I 2024-08-25 23:02:58,721] Trial 12 finished with value: 0.59875 and parameters: {'n_estimators': 82, 'max_depth': 14, 'min_samples_leaf': 7}. Best is trial 1 with value: 0.6125.\n",
      "[I 2024-08-25 23:02:59,966] Trial 14 finished with value: 0.6 and parameters: {'n_estimators': 60, 'max_depth': 15, 'min_samples_leaf': 6}. Best is trial 1 with value: 0.6125.\n",
      "[I 2024-08-25 23:03:00,061] Trial 15 finished with value: 0.59 and parameters: {'n_estimators': 56, 'max_depth': 16, 'min_samples_leaf': 7}. Best is trial 1 with value: 0.6125.\n",
      "[I 2024-08-25 23:03:01,579] Trial 16 finished with value: 0.585 and parameters: {'n_estimators': 52, 'max_depth': 16, 'min_samples_leaf': 5}. Best is trial 1 with value: 0.6125.\n",
      "[I 2024-08-25 23:03:03,251] Trial 17 finished with value: 0.6075 and parameters: {'n_estimators': 50, 'max_depth': 40, 'min_samples_leaf': 4}. Best is trial 1 with value: 0.6125.\n",
      "[I 2024-08-25 23:03:11,633] Trial 20 finished with value: 0.60375 and parameters: {'n_estimators': 137, 'max_depth': 39, 'min_samples_leaf': 11}. Best is trial 1 with value: 0.6125.\n",
      "[I 2024-08-25 23:03:14,281] Trial 19 finished with value: 0.615 and parameters: {'n_estimators': 143, 'max_depth': 40, 'min_samples_leaf': 2}. Best is trial 19 with value: 0.615.\n",
      "[I 2024-08-25 23:03:15,295] Trial 18 finished with value: 0.615 and parameters: {'n_estimators': 199, 'max_depth': 35, 'min_samples_leaf': 9}. Best is trial 19 with value: 0.615.\n",
      "[I 2024-08-25 23:03:17,906] Trial 21 finished with value: 0.6 and parameters: {'n_estimators': 200, 'max_depth': 35, 'min_samples_leaf': 11}. Best is trial 19 with value: 0.615.\n",
      "[I 2024-08-25 23:03:23,447] Trial 22 finished with value: 0.6075 and parameters: {'n_estimators': 197, 'max_depth': 34, 'min_samples_leaf': 23}. Best is trial 19 with value: 0.615.\n",
      "[I 2024-08-25 23:03:29,771] Trial 24 finished with value: 0.60625 and parameters: {'n_estimators': 145, 'max_depth': 35, 'min_samples_leaf': 2}. Best is trial 19 with value: 0.615.\n",
      "[I 2024-08-25 23:03:33,366] Trial 25 finished with value: 0.6125 and parameters: {'n_estimators': 149, 'max_depth': 36, 'min_samples_leaf': 1}. Best is trial 19 with value: 0.615.\n",
      "[I 2024-08-25 23:03:33,855] Trial 23 finished with value: 0.615 and parameters: {'n_estimators': 198, 'max_depth': 35, 'min_samples_leaf': 2}. Best is trial 19 with value: 0.615.\n",
      "[I 2024-08-25 23:03:38,096] Trial 26 finished with value: 0.6125 and parameters: {'n_estimators': 146, 'max_depth': 36, 'min_samples_leaf': 2}. Best is trial 19 with value: 0.615.\n",
      "[I 2024-08-25 23:03:40,960] Trial 27 finished with value: 0.61375 and parameters: {'n_estimators': 147, 'max_depth': 27, 'min_samples_leaf': 9}. Best is trial 19 with value: 0.615.\n",
      "[I 2024-08-25 23:03:45,858] Trial 29 finished with value: 0.61 and parameters: {'n_estimators': 156, 'max_depth': 27, 'min_samples_leaf': 9}. Best is trial 19 with value: 0.615.\n",
      "[I 2024-08-25 23:03:47,228] Trial 28 finished with value: 0.61375 and parameters: {'n_estimators': 183, 'max_depth': 27, 'min_samples_leaf': 9}. Best is trial 19 with value: 0.615.\n",
      "[I 2024-08-25 23:03:50,274] Trial 30 finished with value: 0.6125 and parameters: {'n_estimators': 157, 'max_depth': 28, 'min_samples_leaf': 9}. Best is trial 19 with value: 0.615.\n",
      "[I 2024-08-25 23:03:57,593] Trial 31 finished with value: 0.60625 and parameters: {'n_estimators': 186, 'max_depth': 32, 'min_samples_leaf': 4}. Best is trial 19 with value: 0.615.\n",
      "[I 2024-08-25 23:03:58,400] Trial 33 finished with value: 0.6025 and parameters: {'n_estimators': 127, 'max_depth': 32, 'min_samples_leaf': 4}. Best is trial 19 with value: 0.615.\n",
      "[I 2024-08-25 23:04:02,258] Trial 32 finished with value: 0.60375 and parameters: {'n_estimators': 184, 'max_depth': 32, 'min_samples_leaf': 4}. Best is trial 19 with value: 0.615.\n",
      "[I 2024-08-25 23:04:02,642] Trial 34 finished with value: 0.60375 and parameters: {'n_estimators': 133, 'max_depth': 32, 'min_samples_leaf': 3}. Best is trial 19 with value: 0.615.\n",
      "[I 2024-08-25 23:04:06,907] Trial 35 finished with value: 0.59875 and parameters: {'n_estimators': 131, 'max_depth': 33, 'min_samples_leaf': 13}. Best is trial 19 with value: 0.615.\n",
      "[I 2024-08-25 23:04:10,511] Trial 38 finished with value: 0.60375 and parameters: {'n_estimators': 114, 'max_depth': 37, 'min_samples_leaf': 13}. Best is trial 19 with value: 0.615.\n",
      "[I 2024-08-25 23:04:11,890] Trial 37 finished with value: 0.60125 and parameters: {'n_estimators': 135, 'max_depth': 38, 'min_samples_leaf': 13}. Best is trial 19 with value: 0.615.\n",
      "[I 2024-08-25 23:04:12,057] Trial 36 finished with value: 0.605 and parameters: {'n_estimators': 192, 'max_depth': 38, 'min_samples_leaf': 12}. Best is trial 19 with value: 0.615.\n",
      "[I 2024-08-25 23:04:15,831] Trial 39 finished with value: 0.61 and parameters: {'n_estimators': 112, 'max_depth': 37, 'min_samples_leaf': 7}. Best is trial 19 with value: 0.615.\n",
      "[I 2024-08-25 23:04:17,961] Trial 41 finished with value: 0.60875 and parameters: {'n_estimators': 95, 'max_depth': 25, 'min_samples_leaf': 17}. Best is trial 19 with value: 0.615.\n",
      "[I 2024-08-25 23:04:19,731] Trial 42 finished with value: 0.615 and parameters: {'n_estimators': 98, 'max_depth': 29, 'min_samples_leaf': 8}. Best is trial 19 with value: 0.615.\n",
      "[I 2024-08-25 23:04:23,715] Trial 40 finished with value: 0.6025 and parameters: {'n_estimators': 198, 'max_depth': 38, 'min_samples_leaf': 17}. Best is trial 19 with value: 0.615.\n",
      "[I 2024-08-25 23:04:27,269] Trial 43 finished with value: 0.60875 and parameters: {'n_estimators': 170, 'max_depth': 24, 'min_samples_leaf': 16}. Best is trial 19 with value: 0.615.\n",
      "[I 2024-08-25 23:04:31,265] Trial 44 finished with value: 0.61875 and parameters: {'n_estimators': 175, 'max_depth': 30, 'min_samples_leaf': 9}. Best is trial 44 with value: 0.61875.\n",
      "[I 2024-08-25 23:04:32,657] Trial 47 finished with value: 0.62375 and parameters: {'n_estimators': 70, 'max_depth': 21, 'min_samples_leaf': 8}. Best is trial 47 with value: 0.62375.\n",
      "[I 2024-08-25 23:04:32,749] Trial 45 finished with value: 0.61625 and parameters: {'n_estimators': 169, 'max_depth': 30, 'min_samples_leaf': 9}. Best is trial 47 with value: 0.62375.\n",
      "[I 2024-08-25 23:04:36,684] Trial 46 finished with value: 0.61875 and parameters: {'n_estimators': 169, 'max_depth': 30, 'min_samples_leaf': 8}. Best is trial 47 with value: 0.62375.\n",
      "[I 2024-08-25 23:04:37,963] Trial 50 finished with value: 0.61125 and parameters: {'n_estimators': 70, 'max_depth': 18, 'min_samples_leaf': 10}. Best is trial 47 with value: 0.62375.\n",
      "[I 2024-08-25 23:04:38,193] Trial 49 finished with value: 0.62375 and parameters: {'n_estimators': 68, 'max_depth': 20, 'min_samples_leaf': 6}. Best is trial 47 with value: 0.62375.\n",
      "[I 2024-08-25 23:04:40,519] Trial 53 finished with value: 0.61375 and parameters: {'n_estimators': 30, 'max_depth': 21, 'min_samples_leaf': 7}. Best is trial 47 with value: 0.62375.\n",
      "[I 2024-08-25 23:04:44,924] Trial 48 finished with value: 0.61625 and parameters: {'n_estimators': 176, 'max_depth': 30, 'min_samples_leaf': 8}. Best is trial 47 with value: 0.62375.\n",
      "[I 2024-08-25 23:04:49,348] Trial 51 finished with value: 0.59625 and parameters: {'n_estimators': 176, 'max_depth': 20, 'min_samples_leaf': 11}. Best is trial 47 with value: 0.62375.\n",
      "[I 2024-08-25 23:04:52,477] Trial 52 finished with value: 0.615 and parameters: {'n_estimators': 177, 'max_depth': 21, 'min_samples_leaf': 6}. Best is trial 47 with value: 0.62375.\n",
      "[I 2024-08-25 23:04:54,653] Trial 54 finished with value: 0.6125 and parameters: {'n_estimators': 176, 'max_depth': 20, 'min_samples_leaf': 6}. Best is trial 47 with value: 0.62375.\n",
      "[I 2024-08-25 23:04:55,462] Trial 56 finished with value: 0.63 and parameters: {'n_estimators': 73, 'max_depth': 30, 'min_samples_leaf': 6}. Best is trial 56 with value: 0.63.\n",
      "[I 2024-08-25 23:04:57,624] Trial 58 finished with value: 0.6075 and parameters: {'n_estimators': 37, 'max_depth': 25, 'min_samples_leaf': 8}. Best is trial 56 with value: 0.63.\n",
      "[I 2024-08-25 23:04:58,832] Trial 55 finished with value: 0.60375 and parameters: {'n_estimators': 176, 'max_depth': 21, 'min_samples_leaf': 7}. Best is trial 56 with value: 0.63.\n",
      "[I 2024-08-25 23:05:01,537] Trial 59 finished with value: 0.60875 and parameters: {'n_estimators': 72, 'max_depth': 25, 'min_samples_leaf': 5}. Best is trial 56 with value: 0.63.\n",
      "[I 2024-08-25 23:05:03,697] Trial 60 finished with value: 0.6225 and parameters: {'n_estimators': 72, 'max_depth': 30, 'min_samples_leaf': 6}. Best is trial 56 with value: 0.63.\n",
      "[I 2024-08-25 23:05:04,934] Trial 61 finished with value: 0.6175 and parameters: {'n_estimators': 72, 'max_depth': 30, 'min_samples_leaf': 5}. Best is trial 56 with value: 0.63.\n",
      "[I 2024-08-25 23:05:05,990] Trial 57 finished with value: 0.61125 and parameters: {'n_estimators': 163, 'max_depth': 30, 'min_samples_leaf': 6}. Best is trial 56 with value: 0.63.\n",
      "[I 2024-08-25 23:05:08,338] Trial 62 finished with value: 0.60375 and parameters: {'n_estimators': 83, 'max_depth': 18, 'min_samples_leaf': 5}. Best is trial 56 with value: 0.63.\n",
      "[I 2024-08-25 23:05:09,882] Trial 63 finished with value: 0.5975 and parameters: {'n_estimators': 87, 'max_depth': 12, 'min_samples_leaf': 5}. Best is trial 56 with value: 0.63.\n",
      "[I 2024-08-25 23:05:10,351] Trial 64 finished with value: 0.6 and parameters: {'n_estimators': 66, 'max_depth': 18, 'min_samples_leaf': 5}. Best is trial 56 with value: 0.63.\n",
      "[I 2024-08-25 23:05:11,769] Trial 65 finished with value: 0.6025 and parameters: {'n_estimators': 67, 'max_depth': 23, 'min_samples_leaf': 5}. Best is trial 56 with value: 0.63.\n",
      "[I 2024-08-25 23:05:12,805] Trial 68 finished with value: 0.59625 and parameters: {'n_estimators': 42, 'max_depth': 26, 'min_samples_leaf': 28}. Best is trial 56 with value: 0.63.\n",
      "[I 2024-08-25 23:05:13,774] Trial 67 finished with value: 0.59125 and parameters: {'n_estimators': 67, 'max_depth': 23, 'min_samples_leaf': 30}. Best is trial 56 with value: 0.63.\n",
      "[I 2024-08-25 23:05:13,843] Trial 66 finished with value: 0.615 and parameters: {'n_estimators': 64, 'max_depth': 23, 'min_samples_leaf': 5}. Best is trial 56 with value: 0.63.\n",
      "[I 2024-08-25 23:05:15,745] Trial 70 finished with value: 0.58375 and parameters: {'n_estimators': 77, 'max_depth': 5, 'min_samples_leaf': 3}. Best is trial 56 with value: 0.63.\n",
      "[I 2024-08-25 23:05:16,396] Trial 69 finished with value: 0.6 and parameters: {'n_estimators': 76, 'max_depth': 28, 'min_samples_leaf': 28}. Best is trial 56 with value: 0.63.\n",
      "[I 2024-08-25 23:05:19,482] Trial 71 finished with value: 0.615 and parameters: {'n_estimators': 77, 'max_depth': 29, 'min_samples_leaf': 10}. Best is trial 56 with value: 0.63.\n",
      "[I 2024-08-25 23:05:19,907] Trial 73 finished with value: 0.6175 and parameters: {'n_estimators': 56, 'max_depth': 28, 'min_samples_leaf': 10}. Best is trial 56 with value: 0.63.\n",
      "[I 2024-08-25 23:05:20,289] Trial 75 finished with value: 0.58625 and parameters: {'n_estimators': 10, 'max_depth': 31, 'min_samples_leaf': 10}. Best is trial 56 with value: 0.63.\n",
      "[I 2024-08-25 23:05:20,715] Trial 74 finished with value: 0.6175 and parameters: {'n_estimators': 57, 'max_depth': 30, 'min_samples_leaf': 10}. Best is trial 56 with value: 0.63.\n",
      "[I 2024-08-25 23:05:21,376] Trial 72 finished with value: 0.6 and parameters: {'n_estimators': 78, 'max_depth': 28, 'min_samples_leaf': 3}. Best is trial 56 with value: 0.63.\n",
      "[I 2024-08-25 23:05:23,829] Trial 76 finished with value: 0.6175 and parameters: {'n_estimators': 53, 'max_depth': 31, 'min_samples_leaf': 10}. Best is trial 56 with value: 0.63.\n",
      "[I 2024-08-25 23:05:24,665] Trial 78 finished with value: 0.60875 and parameters: {'n_estimators': 49, 'max_depth': 33, 'min_samples_leaf': 8}. Best is trial 56 with value: 0.63.\n",
      "[I 2024-08-25 23:05:24,737] Trial 77 finished with value: 0.60625 and parameters: {'n_estimators': 56, 'max_depth': 33, 'min_samples_leaf': 8}. Best is trial 56 with value: 0.63.\n",
      "[I 2024-08-25 23:05:25,340] Trial 79 finished with value: 0.60875 and parameters: {'n_estimators': 49, 'max_depth': 33, 'min_samples_leaf': 8}. Best is trial 56 with value: 0.63.\n",
      "[I 2024-08-25 23:05:27,428] Trial 80 finished with value: 0.6125 and parameters: {'n_estimators': 46, 'max_depth': 33, 'min_samples_leaf': 8}. Best is trial 56 with value: 0.63.\n",
      "[I 2024-08-25 23:05:31,598] Trial 84 finished with value: 0.58875 and parameters: {'n_estimators': 59, 'max_depth': 29, 'min_samples_leaf': 12}. Best is trial 56 with value: 0.63.\n",
      "[I 2024-08-25 23:05:31,935] Trial 81 finished with value: 0.5975 and parameters: {'n_estimators': 103, 'max_depth': 34, 'min_samples_leaf': 12}. Best is trial 56 with value: 0.63.\n",
      "[I 2024-08-25 23:05:32,466] Trial 82 finished with value: 0.615 and parameters: {'n_estimators': 93, 'max_depth': 27, 'min_samples_leaf': 7}. Best is trial 56 with value: 0.63.\n",
      "[I 2024-08-25 23:05:32,761] Trial 83 finished with value: 0.61125 and parameters: {'n_estimators': 91, 'max_depth': 27, 'min_samples_leaf': 7}. Best is trial 56 with value: 0.63.\n",
      "[I 2024-08-25 23:05:36,724] Trial 86 finished with value: 0.60625 and parameters: {'n_estimators': 60, 'max_depth': 26, 'min_samples_leaf': 7}. Best is trial 56 with value: 0.63.\n",
      "[I 2024-08-25 23:05:38,006] Trial 88 finished with value: 0.62 and parameters: {'n_estimators': 61, 'max_depth': 30, 'min_samples_leaf': 6}. Best is trial 56 with value: 0.63.\n",
      "[I 2024-08-25 23:05:38,483] Trial 87 finished with value: 0.59625 and parameters: {'n_estimators': 86, 'max_depth': 30, 'min_samples_leaf': 14}. Best is trial 56 with value: 0.63.\n",
      "[I 2024-08-25 23:05:38,947] Trial 85 finished with value: 0.62 and parameters: {'n_estimators': 88, 'max_depth': 27, 'min_samples_leaf': 7}. Best is trial 56 with value: 0.63.\n",
      "[I 2024-08-25 23:05:42,640] Trial 89 finished with value: 0.59625 and parameters: {'n_estimators': 84, 'max_depth': 31, 'min_samples_leaf': 14}. Best is trial 56 with value: 0.63.\n",
      "[I 2024-08-25 23:05:43,982] Trial 90 finished with value: 0.6325 and parameters: {'n_estimators': 72, 'max_depth': 28, 'min_samples_leaf': 6}. Best is trial 90 with value: 0.6325.\n",
      "[I 2024-08-25 23:05:44,402] Trial 91 finished with value: 0.63 and parameters: {'n_estimators': 71, 'max_depth': 31, 'min_samples_leaf': 6}. Best is trial 90 with value: 0.6325.\n",
      "[I 2024-08-25 23:05:45,482] Trial 92 finished with value: 0.61375 and parameters: {'n_estimators': 73, 'max_depth': 31, 'min_samples_leaf': 4}. Best is trial 90 with value: 0.6325.\n",
      "[I 2024-08-25 23:05:48,051] Trial 93 finished with value: 0.61 and parameters: {'n_estimators': 63, 'max_depth': 19, 'min_samples_leaf': 4}. Best is trial 90 with value: 0.6325.\n",
      "[I 2024-08-25 23:05:49,705] Trial 95 finished with value: 0.6225 and parameters: {'n_estimators': 64, 'max_depth': 31, 'min_samples_leaf': 6}. Best is trial 90 with value: 0.6325.\n",
      "[I 2024-08-25 23:05:50,761] Trial 94 finished with value: 0.60375 and parameters: {'n_estimators': 74, 'max_depth': 29, 'min_samples_leaf': 4}. Best is trial 90 with value: 0.6325.\n",
      "[I 2024-08-25 23:05:50,846] Trial 96 finished with value: 0.6125 and parameters: {'n_estimators': 65, 'max_depth': 22, 'min_samples_leaf': 6}. Best is trial 90 with value: 0.6325.\n",
      "[I 2024-08-25 23:05:56,009] Trial 98 finished with value: 0.62 and parameters: {'n_estimators': 80, 'max_depth': 26, 'min_samples_leaf': 6}. Best is trial 90 with value: 0.6325.\n",
      "[I 2024-08-25 23:05:56,513] Trial 97 finished with value: 0.61375 and parameters: {'n_estimators': 107, 'max_depth': 22, 'min_samples_leaf': 6}. Best is trial 90 with value: 0.6325.\n",
      "[I 2024-08-25 23:05:57,102] Trial 99 finished with value: 0.6125 and parameters: {'n_estimators': 81, 'max_depth': 32, 'min_samples_leaf': 6}. Best is trial 90 with value: 0.6325.\n"
     ]
    },
    {
     "name": "stdout",
     "output_type": "stream",
     "text": [
      "Melhor solução:\n",
      "Valor: 0.6325\n",
      "Parâmetros: \n",
      "    n_estimators: 72\n",
      "    max_depth: 28\n",
      "    min_samples_leaf: 6\n"
     ]
    }
   ],
   "execution_count": 15
  },
  {
   "cell_type": "code",
   "metadata": {
    "colab": {
     "base_uri": "https://localhost:8080/",
     "height": 1000
    },
    "id": "sXWMq7Rm2dwH",
    "outputId": "90296a3b-4bcb-4876-c9b3-29623780fedf",
    "ExecuteTime": {
     "end_time": "2024-08-26T02:06:36.266405Z",
     "start_time": "2024-08-26T02:06:35.905523Z"
    }
   },
   "source": [
    "import seaborn as sns\n",
    "import matplotlib.pyplot as plt\n",
    "from sklearn.metrics import accuracy_score, cohen_kappa_score, f1_score, confusion_matrix\n",
    "\n",
    "# Inferência e avaliação\n",
    "def predict_and_evaluate(model, X_test, y_test, normalize=None):\n",
    "\n",
    "  # Inferência\n",
    "  y_pred = model.predict(X_test)\n",
    "\n",
    "  # Métricas\n",
    "  print('Acurácia:', accuracy_score(y_test, y_pred))\n",
    "  print('F1 score:', f1_score(y_test, y_pred, average='weighted'))\n",
    "\n",
    "  # Matriz de confusão\n",
    "  conf_matrix = confusion_matrix(y_test, y_pred, normalize=normalize)\n",
    "\n",
    "  fmt = '.2f' if normalize == 'true' else 'd'\n",
    "  sns.heatmap(conf_matrix, annot=True, fmt=fmt, cmap=\"Blues\", xticklabels=np.unique(y_test), yticklabels=np.unique(y_test))\n",
    "  plt.title('Matriz de Confusão')\n",
    "  plt.xlabel('Predito')\n",
    "  plt.ylabel('Verdadeiro')\n",
    "  plt.show()\n",
    "\n",
    "print('Resultados de Teste')\n",
    "predict_and_evaluate(model, X_test_flat, y_test)\n",
    "print('Resultados de Treino')\n",
    "predict_and_evaluate(model, X_train_flat, y_train)"
   ],
   "outputs": [
    {
     "name": "stdout",
     "output_type": "stream",
     "text": [
      "Resultados de Teste\n",
      "Acurácia: 0.61\n",
      "F1 score: 0.6102854890478067\n"
     ]
    },
    {
     "data": {
      "text/plain": [
       "<Figure size 640x480 with 2 Axes>"
      ],
      "image/png": "[encoded data removed]"
     },
     "metadata": {},
     "output_type": "display_data"
    },
    {
     "name": "stdout",
     "output_type": "stream",
     "text": [
      "Resultados de Treino\n",
      "Acurácia: 1.0\n",
      "F1 score: 1.0\n"
     ]
    },
    {
     "data": {
      "text/plain": [
       "<Figure size 640x480 with 2 Axes>"
      ],
      "image/png": "[encoded data removed]"
     },
     "metadata": {},
     "output_type": "display_data"
    }
   ],
   "execution_count": 16
  }
 ],
 "metadata": {
  "accelerator": "GPU",
  "colab": {
   "authorship_tag": "ABX9TyPVIJn+nK6D3l4KnN5bsTIt",
   "gpuType": "T4",
   "include_colab_link": true,
   "provenance": []
  },
  "kernelspec": {
   "display_name": "Python 3 (ipykernel)",
   "name": "python3",
   "language": "python"
  },
  "language_info": {
   "codemirror_mode": {
    "name": "ipython",
    "version": 3
   },
   "file_extension": ".py",
   "mimetype": "text/x-python",
   "name": "python",
   "nbconvert_exporter": "python",
   "pygments_lexer": "ipython3",
   "version": "3.12.4"
  }
 },
 "nbformat": 4,
 "nbformat_minor": 0
}
