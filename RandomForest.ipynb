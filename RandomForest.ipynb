{
 "cells": [
  {
   "cell_type": "markdown",
   "metadata": {
    "colab_type": "text",
    "id": "view-in-github"
   },
   "source": [
    "<a href=\"https://colab.research.google.com/github/gustavoteixeirah/dataset-celulas-malaria/blob/main/RandomForest.ipynb\" target=\"_parent\"><img src=\"https://colab.research.google.com/assets/colab-badge.svg\" alt=\"Open In Colab\"/></a>"
   ]
  },
  {
   "cell_type": "code",
   "metadata": {
    "colab": {
     "base_uri": "https://localhost:8080/"
    },
    "id": "8j2xCv6_jzkd",
    "outputId": "82ef7f09-101a-40be-b772-4ec89f68547a",
    "ExecuteTime": {
     "end_time": "2024-08-23T04:29:40.573424Z",
     "start_time": "2024-08-23T04:29:40.570888Z"
    }
   },
   "source": [
    "import os\n",
    "\n",
    "# from google.colab import drive\n",
    "# drive.mount('/content/drive', force_remount=True)\n",
    "\n",
    "# Define folder paths\n",
    "# FOLDER = \"/content/drive/MyDrive/dataset.celulas\"\n",
    "FOLDER = \"dataset.celulas\"\n",
    "PARASITIZED_FOLDER = os.path.join(FOLDER, \"Parasitized/\")\n",
    "UNINFECTED_FOLDER = os.path.join(FOLDER, \"Uninfected/\")\n",
    "\n"
   ],
   "outputs": [],
   "execution_count": 1
  },
  {
   "cell_type": "code",
   "metadata": {
    "colab": {
     "base_uri": "https://localhost:8080/"
    },
    "id": "GyvRqETXmKMZ",
    "outputId": "07e8766c-c7e5-4480-8e62-288f63e551be",
    "ExecuteTime": {
     "end_time": "2024-08-23T04:29:58.330142Z",
     "start_time": "2024-08-23T04:29:42.608696Z"
    }
   },
   "source": [
    "from skimage.io import imread  # Assuming you have scikit-image installed\n",
    "from skimage.transform import resize  # Correct import for the resize function\n",
    "import time\n",
    "\n",
    "target_size = (128, 128)\n",
    "\n",
    "# Function to load and preprocess images with progress counter\n",
    "def load_and_preprocess_image(folder_path, image_name, start_time):\n",
    "    image_path = os.path.join(folder_path, image_name)\n",
    "    image = imread(image_path, as_gray=True)  # Read as grayscale\n",
    "    image = resize(image, target_size)  # Resize to target dimensions\n",
    "    # You can add further preprocessing steps here (e.g., normalization)\n",
    "\n",
    "    # Print progress every 1000 images\n",
    "    if (len(parasitized_images) + len(uninfected_images)) % 1000 == 0:\n",
    "        elapsed_time = time.time() - start_time\n",
    "        print(f\"Processed {len(parasitized_images) + len(uninfected_images)} images in {elapsed_time:.2f} seconds.\")\n",
    "\n",
    "    return image\n",
    "\n",
    "\n",
    "# Load image data\n",
    "parasitized_images = []\n",
    "uninfected_images = []\n",
    "start_time = time.time()  # Start time for progress tracking\n",
    "print(f\"{start_time:.2f} seconds.\")\n",
    "\n",
    "# Limit to loading only 2000 images each\n",
    "image_count = 0\n",
    "limit = 6000\n",
    "\n",
    "for image_name in os.listdir(PARASITIZED_FOLDER):\n",
    "    if (image_name.split('.')[1] == 'png') and image_count < limit:\n",
    "        parasitized_images.append(load_and_preprocess_image(PARASITIZED_FOLDER, image_name, start_time))\n",
    "        image_count += 1\n",
    "\n",
    "image_count = 0\n",
    "\n",
    "for image_name in os.listdir(UNINFECTED_FOLDER):\n",
    "    if (image_name.split('.')[1] == 'png') and image_count < limit:\n",
    "        uninfected_images.append(load_and_preprocess_image(UNINFECTED_FOLDER, image_name, start_time))\n",
    "        image_count += 1\n",
    "\n",
    "# Print final message after processing all images\n",
    "elapsed_time = time.time() - start_time\n",
    "print(f\"Finished processing all images in {elapsed_time:.2f} seconds.\")"
   ],
   "outputs": [
    {
     "name": "stdout",
     "output_type": "stream",
     "text": [
      "1724387382.99 seconds.\n",
      "Processed 0 images in 0.10 seconds.\n",
      "Processed 1000 images in 1.43 seconds.\n",
      "Processed 2000 images in 2.66 seconds.\n",
      "Processed 3000 images in 3.88 seconds.\n",
      "Processed 4000 images in 5.25 seconds.\n",
      "Processed 5000 images in 6.58 seconds.\n",
      "Processed 6000 images in 7.94 seconds.\n",
      "Processed 7000 images in 9.17 seconds.\n",
      "Processed 8000 images in 10.41 seconds.\n",
      "Processed 9000 images in 11.64 seconds.\n",
      "Processed 10000 images in 12.87 seconds.\n",
      "Processed 11000 images in 14.10 seconds.\n",
      "Finished processing all images in 15.34 seconds.\n"
     ]
    }
   ],
   "execution_count": 2
  },
  {
   "cell_type": "code",
   "metadata": {
    "colab": {
     "base_uri": "https://localhost:8080/"
    },
    "id": "9zaOlEPCwfjY",
    "outputId": "322daaea-afa8-4dd9-a023-18d90299344f",
    "ExecuteTime": {
     "end_time": "2024-08-23T04:30:00.620548Z",
     "start_time": "2024-08-23T04:30:00.617853Z"
    }
   },
   "source": [
    "print(f\"Shape of first parasitized image: {parasitized_images[0].shape}\")\n",
    "print(f\"Shape of first uninfected image: {uninfected_images[0].shape}\")"
   ],
   "outputs": [
    {
     "name": "stdout",
     "output_type": "stream",
     "text": [
      "Shape of first parasitized image: (128, 128)\n",
      "Shape of first uninfected image: (128, 128)\n"
     ]
    }
   ],
   "execution_count": 3
  },
  {
   "cell_type": "code",
   "metadata": {
    "colab": {
     "base_uri": "https://localhost:8080/"
    },
    "id": "nMotlLj-niJN",
    "outputId": "b91f60e0-4e3f-4a38-cad4-eb29fd50bcf4",
    "ExecuteTime": {
     "end_time": "2024-08-23T04:30:02.860820Z",
     "start_time": "2024-08-23T04:30:01.899749Z"
    }
   },
   "source": [
    "import numpy as np\n",
    "\n",
    "# Check initial shapes and sizes\n",
    "print(f\"Parasitized images shape: {np.array(parasitized_images).shape}\")\n",
    "print(f\"Uninfected images shape: {np.array(uninfected_images).shape}\")\n",
    "\n",
    "# Incremental concatenation\n",
    "def incremental_concatenate(arrays, batch_size=100):\n",
    "    result = []\n",
    "    for i in range(0, len(arrays), batch_size):\n",
    "        batch = arrays[i:i + batch_size]\n",
    "        result.append(np.array(batch))\n",
    "\n",
    "        print(f\"Returning from: {i}\")\n",
    "    return np.concatenate(result)\n",
    "\n",
    "\n",
    "# Incrementally concatenate images\n",
    "parasitized_images_array = incremental_concatenate(parasitized_images)\n",
    "uninfected_images_array = incremental_concatenate(uninfected_images)\n",
    "\n",
    "X = np.concatenate((parasitized_images_array, uninfected_images_array))\n",
    "y = np.array([1] * len(parasitized_images_array) + [0] * len(uninfected_images_array))\n",
    "\n",
    "print(f\"Shape of X: {X.shape}\")\n",
    "print(f\"Shape of y: {y.shape}\")\n"
   ],
   "outputs": [
    {
     "name": "stdout",
     "output_type": "stream",
     "text": [
      "Parasitized images shape: (6000, 128, 128)\n",
      "Uninfected images shape: (6000, 128, 128)\n",
      "Returning from: 0\n",
      "Returning from: 100\n",
      "Returning from: 200\n",
      "Returning from: 300\n",
      "Returning from: 400\n",
      "Returning from: 500\n",
      "Returning from: 600\n",
      "Returning from: 700\n",
      "Returning from: 800\n",
      "Returning from: 900\n",
      "Returning from: 1000\n",
      "Returning from: 1100\n",
      "Returning from: 1200\n",
      "Returning from: 1300\n",
      "Returning from: 1400\n",
      "Returning from: 1500\n",
      "Returning from: 1600\n",
      "Returning from: 1700\n",
      "Returning from: 1800\n",
      "Returning from: 1900\n",
      "Returning from: 2000\n",
      "Returning from: 2100\n",
      "Returning from: 2200\n",
      "Returning from: 2300\n",
      "Returning from: 2400\n",
      "Returning from: 2500\n",
      "Returning from: 2600\n",
      "Returning from: 2700\n",
      "Returning from: 2800\n",
      "Returning from: 2900\n",
      "Returning from: 3000\n",
      "Returning from: 3100\n",
      "Returning from: 3200\n",
      "Returning from: 3300\n",
      "Returning from: 3400\n",
      "Returning from: 3500\n",
      "Returning from: 3600\n",
      "Returning from: 3700\n",
      "Returning from: 3800\n",
      "Returning from: 3900\n",
      "Returning from: 4000\n",
      "Returning from: 4100\n",
      "Returning from: 4200\n",
      "Returning from: 4300\n",
      "Returning from: 4400\n",
      "Returning from: 4500\n",
      "Returning from: 4600\n",
      "Returning from: 4700\n",
      "Returning from: 4800\n",
      "Returning from: 4900\n",
      "Returning from: 5000\n",
      "Returning from: 5100\n",
      "Returning from: 5200\n",
      "Returning from: 5300\n",
      "Returning from: 5400\n",
      "Returning from: 5500\n",
      "Returning from: 5600\n",
      "Returning from: 5700\n",
      "Returning from: 5800\n",
      "Returning from: 5900\n",
      "Returning from: 0\n",
      "Returning from: 100\n",
      "Returning from: 200\n",
      "Returning from: 300\n",
      "Returning from: 400\n",
      "Returning from: 500\n",
      "Returning from: 600\n",
      "Returning from: 700\n",
      "Returning from: 800\n",
      "Returning from: 900\n",
      "Returning from: 1000\n",
      "Returning from: 1100\n",
      "Returning from: 1200\n",
      "Returning from: 1300\n",
      "Returning from: 1400\n",
      "Returning from: 1500\n",
      "Returning from: 1600\n",
      "Returning from: 1700\n",
      "Returning from: 1800\n",
      "Returning from: 1900\n",
      "Returning from: 2000\n",
      "Returning from: 2100\n",
      "Returning from: 2200\n",
      "Returning from: 2300\n",
      "Returning from: 2400\n",
      "Returning from: 2500\n",
      "Returning from: 2600\n",
      "Returning from: 2700\n",
      "Returning from: 2800\n",
      "Returning from: 2900\n",
      "Returning from: 3000\n",
      "Returning from: 3100\n",
      "Returning from: 3200\n",
      "Returning from: 3300\n",
      "Returning from: 3400\n",
      "Returning from: 3500\n",
      "Returning from: 3600\n",
      "Returning from: 3700\n",
      "Returning from: 3800\n",
      "Returning from: 3900\n",
      "Returning from: 4000\n",
      "Returning from: 4100\n",
      "Returning from: 4200\n",
      "Returning from: 4300\n",
      "Returning from: 4400\n",
      "Returning from: 4500\n",
      "Returning from: 4600\n",
      "Returning from: 4700\n",
      "Returning from: 4800\n",
      "Returning from: 4900\n",
      "Returning from: 5000\n",
      "Returning from: 5100\n",
      "Returning from: 5200\n",
      "Returning from: 5300\n",
      "Returning from: 5400\n",
      "Returning from: 5500\n",
      "Returning from: 5600\n",
      "Returning from: 5700\n",
      "Returning from: 5800\n",
      "Returning from: 5900\n",
      "Shape of X: (12000, 128, 128)\n",
      "Shape of y: (12000,)\n"
     ]
    }
   ],
   "execution_count": 4
  },
  {
   "cell_type": "code",
   "metadata": {
    "colab": {
     "base_uri": "https://localhost:8080/"
    },
    "id": "QwkJSGC1nVaP",
    "outputId": "bf309e88-d32b-47d2-c8c9-226ee08aa379",
    "ExecuteTime": {
     "end_time": "2024-08-23T04:30:10.459442Z",
     "start_time": "2024-08-23T04:30:09.244937Z"
    }
   },
   "source": [
    "# Split data into training and testing sets (consider using scikit-learn's train_test_split)\n",
    "from sklearn.model_selection import train_test_split\n",
    "\n",
    "X_train, X_test, y_train, y_test = train_test_split(X, y, test_size=0.2, random_state=42)\n",
    "print(f\"Shape of X_train: {X_train.shape}\")\n",
    "print(f\"Shape of y_train: {y_train.shape}\")"
   ],
   "outputs": [
    {
     "name": "stdout",
     "output_type": "stream",
     "text": [
      "Shape of X_train: (9600, 128, 128)\n",
      "Shape of y_train: (9600,)\n"
     ]
    }
   ],
   "execution_count": 5
  },
  {
   "cell_type": "code",
   "metadata": {
    "id": "oP70WHt72G1Z",
    "ExecuteTime": {
     "end_time": "2024-08-23T04:30:13.220850Z",
     "start_time": "2024-08-23T04:30:12.763052Z"
    }
   },
   "source": [
    "X_train = X_train.astype('float32') / 255.0\n",
    "X_test = X_test.astype('float32') / 255.0"
   ],
   "outputs": [],
   "execution_count": 6
  },
  {
   "cell_type": "code",
   "metadata": {
    "colab": {
     "base_uri": "https://localhost:8080/"
    },
    "id": "kTCM2NJf2I1R",
    "outputId": "19ab692e-703e-4bef-fbf9-abbce3a8e3d4",
    "ExecuteTime": {
     "end_time": "2024-08-23T04:30:18.087115Z",
     "start_time": "2024-08-23T04:30:18.084290Z"
    }
   },
   "source": [
    "X_train_flat = X_train.reshape((X_train.shape[0], -1))\n",
    "X_test_flat = X_test.reshape((X_test.shape[0], -1))\n",
    "\n",
    "print(X_train_flat.shape)\n",
    "print(X_test_flat.shape)"
   ],
   "outputs": [
    {
     "name": "stdout",
     "output_type": "stream",
     "text": [
      "(9600, 16384)\n",
      "(2400, 16384)\n"
     ]
    }
   ],
   "execution_count": 7
  },
  {
   "cell_type": "code",
   "metadata": {
    "id": "0Ll8a3cqnXzS",
    "ExecuteTime": {
     "end_time": "2024-08-23T04:32:16.832421Z",
     "start_time": "2024-08-23T04:30:21.041803Z"
    }
   },
   "source": [
    "from sklearn.ensemble import RandomForestClassifier\n",
    "\n",
    "# Treinamento de um modelo Random Forest\n",
    "def train(X_train, y_train, n_estimators=100):\n",
    "  model = RandomForestClassifier(n_estimators=n_estimators)\n",
    "  model.fit(X_train, y_train.flatten())\n",
    "  return model\n",
    "\n",
    "model = train(X_train_flat, y_train)"
   ],
   "outputs": [],
   "execution_count": 8
  },
  {
   "cell_type": "code",
   "metadata": {
    "colab": {
     "base_uri": "https://localhost:8080/",
     "height": 1000
    },
    "id": "sXWMq7Rm2dwH",
    "outputId": "90296a3b-4bcb-4876-c9b3-29623780fedf",
    "ExecuteTime": {
     "end_time": "2024-08-23T04:33:30.714263Z",
     "start_time": "2024-08-23T04:33:28.075630Z"
    }
   },
   "source": [
    "import seaborn as sns\n",
    "import matplotlib.pyplot as plt\n",
    "from sklearn.metrics import accuracy_score, cohen_kappa_score, f1_score, confusion_matrix\n",
    "\n",
    "# Inferência e avaliação\n",
    "def predict_and_evaluate(model, X_test, y_test, normalize=None):\n",
    "\n",
    "  # Inferência\n",
    "  y_pred = model.predict(X_test)\n",
    "\n",
    "  # Métricas\n",
    "  print('Acurácia:', accuracy_score(y_test, y_pred))\n",
    "  print('F1 score:', f1_score(y_test, y_pred, average='weighted'))\n",
    "\n",
    "  # Matriz de confusão\n",
    "  conf_matrix = confusion_matrix(y_test, y_pred, normalize=normalize)\n",
    "\n",
    "  fmt = '.2f' if normalize == 'true' else 'd'\n",
    "  sns.heatmap(conf_matrix, annot=True, fmt=fmt, cmap=\"Blues\", xticklabels=np.unique(y_test), yticklabels=np.unique(y_test))\n",
    "  plt.title('Matriz de Confusão')\n",
    "  plt.xlabel('Predito')\n",
    "  plt.ylabel('Verdadeiro')\n",
    "  plt.show()\n",
    "\n",
    "print('Resultados de Teste')\n",
    "predict_and_evaluate(model, X_test_flat, y_test)\n",
    "print('Resultados de Treino')\n",
    "predict_and_evaluate(model, X_train_flat, y_train)"
   ],
   "outputs": [
    {
     "name": "stdout",
     "output_type": "stream",
     "text": [
      "Resultados de Teste\n",
      "Acurácia: 0.7979166666666667\n",
      "F1 score: 0.7975888305198741\n"
     ]
    },
    {
     "data": {
      "text/plain": [
       "<Figure size 640x480 with 2 Axes>"
      ],
      "image/png": "[encoded data removed]"
     },
     "metadata": {},
     "output_type": "display_data"
    },
    {
     "name": "stdout",
     "output_type": "stream",
     "text": [
      "Resultados de Treino\n",
      "Acurácia: 1.0\n",
      "F1 score: 1.0\n"
     ]
    },
    {
     "data": {
      "text/plain": [
       "<Figure size 640x480 with 2 Axes>"
      ],
      "image/png": "[encoded data removed]"
     },
     "metadata": {},
     "output_type": "display_data"
    }
   ],
   "execution_count": 10
  },
  {
   "cell_type": "code",
   "metadata": {
    "colab": {
     "base_uri": "https://localhost:8080/"
    },
    "id": "GOxY3erv6OoD",
    "outputId": "1e926460-ced6-4e45-e265-867b3d4e6937",
    "ExecuteTime": {
     "end_time": "2024-08-23T04:33:53.244907Z",
     "start_time": "2024-08-23T04:33:46.933851Z"
    }
   },
   "source": [
    "from sklearn.cluster import KMeans\n",
    "\n",
    "\n",
    "# Treinamento de um modelo Random Forest\n",
    "def trainKMeans(X_train, y_train, n_clusters=5):\n",
    "  model = KMeans(n_clusters=n_clusters)\n",
    "  model.fit(X_train, y_train.flatten())\n",
    "  return model\n",
    "\n",
    "model = trainKMeans(X_train_flat, y_train)"
   ],
   "outputs": [],
   "execution_count": 11
  },
  {
   "cell_type": "code",
   "metadata": {
    "colab": {
     "base_uri": "https://localhost:8080/",
     "height": 1000
    },
    "id": "-eSS_zGt6Qjs",
    "outputId": "d52d100f-f316-43b3-b329-1be2070e5ca2",
    "ExecuteTime": {
     "end_time": "2024-08-23T04:35:49.099777Z",
     "start_time": "2024-08-23T04:35:48.847974Z"
    }
   },
   "source": [
    "import seaborn as sns\n",
    "import matplotlib.pyplot as plt\n",
    "from sklearn.metrics import accuracy_score, cohen_kappa_score, f1_score, confusion_matrix\n",
    "\n",
    "# Inferência e avaliação\n",
    "def predict_and_evaluate(model, X_test, y_test, normalize=None):\n",
    "\n",
    "  # Inferência\n",
    "  y_pred = model.predict(X_test)\n",
    "\n",
    "  # Métricas\n",
    "  print('Acurácia:', accuracy_score(y_test, y_pred))\n",
    "  print('F1 score:', f1_score(y_test, y_pred, average='weighted'))\n",
    "\n",
    "  # Matriz de confusão\n",
    "  conf_matrix = confusion_matrix(y_test, y_pred, normalize=normalize)\n",
    "\n",
    "  fmt = '.2f' if normalize == 'true' else 'd'\n",
    "  sns.heatmap(conf_matrix, annot=True, fmt=fmt, cmap=\"Blues\", xticklabels=np.unique(y_test), yticklabels=np.unique(y_test))\n",
    "  plt.title('Matriz de Confusão')\n",
    "  plt.xlabel('Predito')\n",
    "  plt.ylabel('Verdadeiro')\n",
    "  plt.show()\n",
    "\n",
    "print('Resultados de Teste')\n",
    "predict_and_evaluate(model, X_test_flat, y_test)\n",
    "print('Resultados de Treino')\n",
    "predict_and_evaluate(model, X_train_flat, y_train)\n",
    "\n"
   ],
   "outputs": [
    {
     "name": "stdout",
     "output_type": "stream",
     "text": [
      "Resultados de Teste\n",
      "Acurácia: 0.13208333333333333\n",
      "F1 score: 0.21158045841640397\n"
     ]
    },
    {
     "data": {
      "text/plain": [
       "<Figure size 640x480 with 2 Axes>"
      ],
      "image/png": "[encoded data removed]"
     },
     "metadata": {},
     "output_type": "display_data"
    },
    {
     "name": "stdout",
     "output_type": "stream",
     "text": [
      "Resultados de Treino\n",
      "Acurácia: 0.13260416666666666\n",
      "F1 score: 0.2131591665256866\n"
     ]
    },
    {
     "data": {
      "text/plain": [
       "<Figure size 640x480 with 2 Axes>"
      ],
      "image/png": "[encoded data removed]"
     },
     "metadata": {},
     "output_type": "display_data"
    }
   ],
   "execution_count": 12
  }
 ],
 "metadata": {
  "accelerator": "GPU",
  "colab": {
   "authorship_tag": "ABX9TyPVIJn+nK6D3l4KnN5bsTIt",
   "gpuType": "T4",
   "include_colab_link": true,
   "provenance": []
  },
  "kernelspec": {
   "display_name": "Python 3 (ipykernel)",
   "name": "python3",
   "language": "python"
  },
  "language_info": {
   "codemirror_mode": {
    "name": "ipython",
    "version": 3
   },
   "file_extension": ".py",
   "mimetype": "text/x-python",
   "name": "python",
   "nbconvert_exporter": "python",
   "pygments_lexer": "ipython3",
   "version": "3.12.4"
  }
 },
 "nbformat": 4,
 "nbformat_minor": 0
}
